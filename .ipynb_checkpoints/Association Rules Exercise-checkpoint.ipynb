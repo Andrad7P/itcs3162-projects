{
 "cells": [
  {
   "cell_type": "markdown",
   "id": "8d4bebc5",
   "metadata": {},
   "source": [
    "# Association Rules: Market Basket Analysis"
   ]
  },
  {
   "cell_type": "markdown",
   "id": "695c0659",
   "metadata": {},
   "source": [
    "## Import Libraries"
   ]
  },
  {
   "cell_type": "code",
   "execution_count": 100,
   "id": "8f95406b",
   "metadata": {},
   "outputs": [],
   "source": [
    "import pandas as pd\n",
    "import matplotlib.pyplot as plt\n",
    "import seaborn as sns"
   ]
  },
  {
   "cell_type": "markdown",
   "id": "1c6698fe",
   "metadata": {},
   "source": [
    "## Load Dataset"
   ]
  },
  {
   "cell_type": "markdown",
   "id": "199996d3",
   "metadata": {},
   "source": [
    "Dataset obtained from [here](https://archive.ics.uci.edu/ml/datasets/Online+Retail+II)."
   ]
  },
  {
   "cell_type": "markdown",
   "id": "8b78dece",
   "metadata": {},
   "source": [
    "<font color=\"red\">Load in your data. Make sure to also set `encoding=\"ISO-8859-1\"` as one of the `read_csv` parameters.</font>"
   ]
  },
  {
   "cell_type": "code",
   "execution_count": 101,
   "id": "880e0411",
   "metadata": {},
   "outputs": [],
   "source": [
    "# TODO write code here"
   ]
  },
  {
   "cell_type": "code",
   "execution_count": null,
   "id": "634d09bd",
   "metadata": {},
   "outputs": [],
   "source": [
    "df.head()"
   ]
  },
  {
   "cell_type": "code",
   "execution_count": 103,
   "id": "bfc7938a",
   "metadata": {},
   "outputs": [
    {
     "data": {
      "text/plain": [
       "(541910, 8)"
      ]
     },
     "execution_count": 103,
     "metadata": {},
     "output_type": "execute_result"
    }
   ],
   "source": [
    "df.shape"
   ]
  },
  {
   "cell_type": "markdown",
   "id": "074d2231",
   "metadata": {},
   "source": [
    "We have 8 features and 541,910 rows.  \n",
    "Looking at the source, this data comes from a UK-based online retail store selling gift-ware.  \n",
    "  \n",
    "Feature information:\n",
    "- InvoiceNo: Invoice number. Nominal. A 6-digit integral number uniquely assigned to each transaction. If this code starts with the letter 'c', it indicates a cancellation.\n",
    "- StockCode: Product (item) code. Nominal. A 5-digit integral number uniquely assigned to each distinct product.\n",
    "- Description: Product (item) name. Nominal.\n",
    "- Quantity: The quantities of each product (item) per transaction. Numeric.\n",
    "- InvoiceDate: Invice date and time. Numeric. The day and time when a transaction was generated.\n",
    "- UnitPrice: Unit price. Numeric. Product price per unit in sterling (Â£).\n",
    "- CustomerID: Customer number. Nominal. A 5-digit integral number uniquely assigned to each customer.\n",
    "- Country: Country name. Nominal. The name of the country where a customer resides."
   ]
  },
  {
   "cell_type": "markdown",
   "id": "c821da57",
   "metadata": {},
   "source": [
    "## Pre-processing"
   ]
  },
  {
   "cell_type": "markdown",
   "id": "71dedb9f",
   "metadata": {},
   "source": [
    "### Drop nulls"
   ]
  },
  {
   "cell_type": "markdown",
   "id": "c1fbea3d",
   "metadata": {},
   "source": [
    "<font color=\"red\">Drop nulls</font>"
   ]
  },
  {
   "cell_type": "code",
   "execution_count": 104,
   "id": "b829f97d",
   "metadata": {},
   "outputs": [],
   "source": [
    "# TODO write code here"
   ]
  },
  {
   "cell_type": "code",
   "execution_count": null,
   "id": "f0041704",
   "metadata": {},
   "outputs": [],
   "source": [
    "df.shape"
   ]
  },
  {
   "cell_type": "markdown",
   "id": "3c72779b",
   "metadata": {},
   "source": [
    "We have 406,840 rows left after dropping any row with null values."
   ]
  },
  {
   "cell_type": "markdown",
   "id": "be133680",
   "metadata": {},
   "source": [
    "### Filter to only include positive quantities"
   ]
  },
  {
   "cell_type": "code",
   "execution_count": null,
   "id": "f6bad52c",
   "metadata": {
    "collapsed": true,
    "jupyter": {
     "outputs_hidden": true
    }
   },
   "outputs": [],
   "source": [
    "df['Quantity'].unique()"
   ]
  },
  {
   "cell_type": "markdown",
   "id": "21510d10",
   "metadata": {},
   "source": [
    "It is possible for a customer to cancel their order, resulting in a negative quantity. We only want to look at items the customers have actually purchased, so we will remove any negatives (or cancelled orders). "
   ]
  },
  {
   "cell_type": "code",
   "execution_count": 107,
   "id": "c9778027",
   "metadata": {},
   "outputs": [],
   "source": [
    "df = df[df['Quantity']>1] # this allows us to filter only rows where quantity > 1"
   ]
  },
  {
   "cell_type": "code",
   "execution_count": 108,
   "id": "64924762",
   "metadata": {},
   "outputs": [
    {
     "data": {
      "text/plain": [
       "(324610, 8)"
      ]
     },
     "execution_count": 108,
     "metadata": {},
     "output_type": "execute_result"
    }
   ],
   "source": [
    "df.shape"
   ]
  },
  {
   "cell_type": "markdown",
   "id": "b247510b",
   "metadata": {},
   "source": [
    "After filtering, we have a remaining 397,925 rows."
   ]
  },
  {
   "cell_type": "markdown",
   "id": "a8437148",
   "metadata": {},
   "source": [
    "### Filter to only UK transcations"
   ]
  },
  {
   "cell_type": "code",
   "execution_count": null,
   "id": "3675b7a3",
   "metadata": {
    "collapsed": true,
    "jupyter": {
     "outputs_hidden": true
    }
   },
   "outputs": [],
   "source": [
    "df['Country'].value_counts()"
   ]
  },
  {
   "cell_type": "markdown",
   "id": "d09074b8",
   "metadata": {},
   "source": [
    "<font color=\"red\">Filter the dataframe to include only transactions from the United Kingdom</font>"
   ]
  },
  {
   "cell_type": "code",
   "execution_count": 110,
   "id": "cbe49286",
   "metadata": {},
   "outputs": [],
   "source": [
    "# TODO write code here"
   ]
  },
  {
   "cell_type": "code",
   "execution_count": null,
   "id": "edf7ad3d",
   "metadata": {},
   "outputs": [],
   "source": []
  },
  {
   "cell_type": "markdown",
   "id": "9264f089",
   "metadata": {},
   "source": [
    "Now we should have 282,944 rows left."
   ]
  },
  {
   "cell_type": "markdown",
   "id": "a041a28b",
   "metadata": {},
   "source": [
    "But, each row is an individual item in a given transaction. To work with Apriori algorithm, we want each row to be a transaction along with all the purchased items."
   ]
  },
  {
   "cell_type": "markdown",
   "id": "c8840155",
   "metadata": {},
   "source": [
    "### One Hot Encoding of our items"
   ]
  },
  {
   "cell_type": "code",
   "execution_count": null,
   "id": "ead3fc69",
   "metadata": {},
   "outputs": [],
   "source": [
    "df.head()"
   ]
  },
  {
   "cell_type": "markdown",
   "id": "3a3925e0",
   "metadata": {},
   "source": [
    "We just want a table with each row being an individual invoice, and each column being the various items (0 if not purchased, 1 if purchased). The exact quantity does not matter since we have already filtered out those more than 0 (meaning it was purchased)."
   ]
  },
  {
   "cell_type": "code",
   "execution_count": 113,
   "id": "41a13df6",
   "metadata": {},
   "outputs": [],
   "source": [
    "df_enc = df[['Invoice','Description']].pivot_table(index=['Invoice'], columns=['Description'], aggfunc=[len], fill_value=0)"
   ]
  },
  {
   "cell_type": "markdown",
   "id": "48eb862b",
   "metadata": {},
   "source": [
    "There are some instances of 2's and 3's, etc... instead of just 1's. So we will clean that as well."
   ]
  },
  {
   "cell_type": "code",
   "execution_count": 114,
   "id": "dda169ab",
   "metadata": {},
   "outputs": [],
   "source": [
    "def encode(x):\n",
    "    if x >= 1:\n",
    "        return 1\n",
    "    # else\n",
    "    return 0"
   ]
  },
  {
   "cell_type": "code",
   "execution_count": null,
   "id": "e6d9e0c1",
   "metadata": {},
   "outputs": [],
   "source": [
    "df_enc = df_enc.applymap(encode)"
   ]
  },
  {
   "cell_type": "code",
   "execution_count": null,
   "id": "f717c82b",
   "metadata": {},
   "outputs": [],
   "source": [
    "df_enc"
   ]
  },
  {
   "cell_type": "markdown",
   "id": "b1781cf5",
   "metadata": {},
   "source": [
    "Let's briefly check this with our first invoice: 536365  \n",
    "The below shows the sum of different items purchased for each invoice."
   ]
  },
  {
   "cell_type": "code",
   "execution_count": null,
   "id": "3d2e8fe3",
   "metadata": {},
   "outputs": [],
   "source": [
    "df_enc[df_enc == 1].sum(axis=1)"
   ]
  },
  {
   "cell_type": "markdown",
   "id": "877a01d4",
   "metadata": {},
   "source": [
    "When checking below, we see that invoice 536365 had 7 different items."
   ]
  },
  {
   "cell_type": "code",
   "execution_count": null,
   "id": "1ba07cbc",
   "metadata": {},
   "outputs": [],
   "source": [
    "df.head(10)"
   ]
  },
  {
   "cell_type": "markdown",
   "id": "5b417d7d",
   "metadata": {},
   "source": [
    "### Filter out transactions with only one purchase"
   ]
  },
  {
   "cell_type": "markdown",
   "id": "ef679d7b",
   "metadata": {},
   "source": [
    "Before we run Apriori algorithm, we only want to perform this on transactions that had more than one purchase. When looking for assocation rules, we are looking for what purchased items are related to each other. If a transaction only has one purchase, this doesn't help us much. *So we will simply remove those transactions.* :)"
   ]
  },
  {
   "cell_type": "code",
   "execution_count": null,
   "id": "c8fc48ab",
   "metadata": {},
   "outputs": [],
   "source": [
    "df_enc = df_enc[(df_enc[df_enc == 1]).sum(axis=1) > 1]\n",
    "df_enc"
   ]
  },
  {
   "cell_type": "markdown",
   "id": "78455fbc",
   "metadata": {},
   "source": [
    "Originally, we had 16,649 rows of transactions. After filtering, we now have 15,371 rows."
   ]
  },
  {
   "cell_type": "markdown",
   "id": "9dc80f4a",
   "metadata": {},
   "source": [
    "## Apriori Algorithm"
   ]
  },
  {
   "cell_type": "markdown",
   "id": "42a29033",
   "metadata": {},
   "source": [
    "We can use the `mlxtend` library to apply the Apriori Algorithm. We will first install the package and then load it in.  \n",
    "  \n",
    "If you are interested in seeing how this works, you can also view their Github [here](https://github.com/rasbt/mlxtend). The more specific area on Apriori is [here](https://github.com/rasbt/mlxtend/tree/master/mlxtend/frequent_patterns)."
   ]
  },
  {
   "cell_type": "markdown",
   "id": "7c1f4227",
   "metadata": {},
   "source": [
    "### Load our library"
   ]
  },
  {
   "cell_type": "code",
   "execution_count": null,
   "id": "26e8e626",
   "metadata": {
    "collapsed": true,
    "jupyter": {
     "outputs_hidden": true
    }
   },
   "outputs": [],
   "source": [
    "!pip install mlxtend"
   ]
  },
  {
   "cell_type": "code",
   "execution_count": 121,
   "id": "9c0aa48e",
   "metadata": {},
   "outputs": [],
   "source": [
    "from mlxtend.frequent_patterns import apriori, association_rules"
   ]
  },
  {
   "cell_type": "markdown",
   "id": "c607cd9b",
   "metadata": {},
   "source": [
    "### Find frequent itemsets"
   ]
  },
  {
   "cell_type": "markdown",
   "id": "c83f3b76",
   "metadata": {},
   "source": [
    "<font color=\"red\">Before continuing, take a look at the documentation for our `apriori` method.</font>"
   ]
  },
  {
   "cell_type": "code",
   "execution_count": null,
   "id": "f7f153d8",
   "metadata": {},
   "outputs": [],
   "source": [
    "apriori?"
   ]
  },
  {
   "cell_type": "markdown",
   "id": "1a080c2f",
   "metadata": {},
   "source": [
    "<font color=\"red\">Create a variable called `freq_itemsets` to save our results from the `apriori` method call. In this call, set `df_enc` as our DataFrame, `min_support` to be `0.03`, and `use_colnames` to `True`.</font>"
   ]
  },
  {
   "cell_type": "code",
   "execution_count": 123,
   "id": "43ba4e24",
   "metadata": {
    "scrolled": true
   },
   "outputs": [],
   "source": [
    "# TODO write code here"
   ]
  },
  {
   "cell_type": "code",
   "execution_count": null,
   "id": "9596aa63",
   "metadata": {},
   "outputs": [],
   "source": [
    "freq_itemsets.sort_values('support', ascending=False)"
   ]
  },
  {
   "cell_type": "markdown",
   "id": "c5356589",
   "metadata": {},
   "source": [
    "### Find the association rules"
   ]
  },
  {
   "cell_type": "markdown",
   "id": "db4780c3",
   "metadata": {},
   "source": [
    "<font color=\"red\">Again, take a look at the documentation for our `association_rules` method before continuing.</font>"
   ]
  },
  {
   "cell_type": "code",
   "execution_count": null,
   "id": "65a288e9",
   "metadata": {},
   "outputs": [],
   "source": [
    "association_rules?"
   ]
  },
  {
   "cell_type": "code",
   "execution_count": null,
   "id": "442a62c6",
   "metadata": {},
   "outputs": [],
   "source": [
    "association_rules(freq_itemsets, metric=\"confidence\", min_threshold=0.60, num_itemsets = len(df_enc)).sort_values(\"confidence\", ascending=False)"
   ]
  },
  {
   "cell_type": "markdown",
   "id": "649ed4a5",
   "metadata": {},
   "source": [
    "With a minimum confidence threshold of 60%, this is what we have (above).  \n",
    "If someone buys a *green regency teacup and saucer* they are likely to also buy a *roses regency teacup and saucer*."
   ]
  },
  {
   "cell_type": "markdown",
   "id": "889b1289",
   "metadata": {},
   "source": [
    "<font color=\"red\">What if we look at a confidence threshold of 20%? What are some other rules?</font>"
   ]
  },
  {
   "cell_type": "code",
   "execution_count": 127,
   "id": "ecd06f16",
   "metadata": {},
   "outputs": [],
   "source": [
    "# TODO write code here"
   ]
  },
  {
   "cell_type": "markdown",
   "id": "78cdf2ff",
   "metadata": {},
   "source": [
    "## Conclusions"
   ]
  },
  {
   "cell_type": "markdown",
   "id": "4eaf8e82",
   "metadata": {},
   "source": [
    "<font color=\"red\">Discuss, based on the association rules found above, what are some strategies this online store could employ to increase sales?</font>"
   ]
  },
  {
   "cell_type": "markdown",
   "id": "0a910eb5",
   "metadata": {},
   "source": []
  },
  {
   "cell_type": "markdown",
   "id": "8fa859d1",
   "metadata": {},
   "source": []
  }
 ],
 "metadata": {
  "kernelspec": {
   "display_name": "Python 3 (ipykernel)",
   "language": "python",
   "name": "python3"
  },
  "language_info": {
   "codemirror_mode": {
    "name": "ipython",
    "version": 3
   },
   "file_extension": ".py",
   "mimetype": "text/x-python",
   "name": "python",
   "nbconvert_exporter": "python",
   "pygments_lexer": "ipython3",
   "version": "3.12.7"
  }
 },
 "nbformat": 4,
 "nbformat_minor": 5
}
