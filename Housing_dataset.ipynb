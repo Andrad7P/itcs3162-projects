{
 "cells": [
  {
   "cell_type": "markdown",
   "id": "76553369-9b83-4ff8-9740-c727fa2ded5d",
   "metadata": {},
   "source": [
    "## USA HOUSING DATASET"
   ]
  },
  {
   "cell_type": "code",
   "execution_count": 3,
   "id": "e154a011-e703-4e62-94a2-475f9f404a06",
   "metadata": {},
   "outputs": [
    {
     "data": {
      "text/html": [
       "<div>\n",
       "<style scoped>\n",
       "    .dataframe tbody tr th:only-of-type {\n",
       "        vertical-align: middle;\n",
       "    }\n",
       "\n",
       "    .dataframe tbody tr th {\n",
       "        vertical-align: top;\n",
       "    }\n",
       "\n",
       "    .dataframe thead th {\n",
       "        text-align: right;\n",
       "    }\n",
       "</style>\n",
       "<table border=\"1\" class=\"dataframe\">\n",
       "  <thead>\n",
       "    <tr style=\"text-align: right;\">\n",
       "      <th></th>\n",
       "      <th>date</th>\n",
       "      <th>price</th>\n",
       "      <th>bedrooms</th>\n",
       "      <th>bathrooms</th>\n",
       "      <th>sqft_living</th>\n",
       "      <th>sqft_lot</th>\n",
       "      <th>floors</th>\n",
       "      <th>waterfront</th>\n",
       "      <th>view</th>\n",
       "      <th>condition</th>\n",
       "      <th>sqft_above</th>\n",
       "      <th>sqft_basement</th>\n",
       "      <th>yr_built</th>\n",
       "      <th>yr_renovated</th>\n",
       "      <th>street</th>\n",
       "      <th>city</th>\n",
       "      <th>statezip</th>\n",
       "      <th>country</th>\n",
       "    </tr>\n",
       "  </thead>\n",
       "  <tbody>\n",
       "    <tr>\n",
       "      <th>0</th>\n",
       "      <td>2014-05-09 00:00:00</td>\n",
       "      <td>376000.0</td>\n",
       "      <td>3.0</td>\n",
       "      <td>2.00</td>\n",
       "      <td>1340</td>\n",
       "      <td>1384</td>\n",
       "      <td>3.0</td>\n",
       "      <td>0</td>\n",
       "      <td>0</td>\n",
       "      <td>3</td>\n",
       "      <td>1340</td>\n",
       "      <td>0</td>\n",
       "      <td>2008</td>\n",
       "      <td>0</td>\n",
       "      <td>9245-9249 Fremont Ave N</td>\n",
       "      <td>Seattle</td>\n",
       "      <td>WA 98103</td>\n",
       "      <td>USA</td>\n",
       "    </tr>\n",
       "    <tr>\n",
       "      <th>1</th>\n",
       "      <td>2014-05-09 00:00:00</td>\n",
       "      <td>800000.0</td>\n",
       "      <td>4.0</td>\n",
       "      <td>3.25</td>\n",
       "      <td>3540</td>\n",
       "      <td>159430</td>\n",
       "      <td>2.0</td>\n",
       "      <td>0</td>\n",
       "      <td>0</td>\n",
       "      <td>3</td>\n",
       "      <td>3540</td>\n",
       "      <td>0</td>\n",
       "      <td>2007</td>\n",
       "      <td>0</td>\n",
       "      <td>33001 NE 24th St</td>\n",
       "      <td>Carnation</td>\n",
       "      <td>WA 98014</td>\n",
       "      <td>USA</td>\n",
       "    </tr>\n",
       "    <tr>\n",
       "      <th>2</th>\n",
       "      <td>2014-05-09 00:00:00</td>\n",
       "      <td>2238888.0</td>\n",
       "      <td>5.0</td>\n",
       "      <td>6.50</td>\n",
       "      <td>7270</td>\n",
       "      <td>130017</td>\n",
       "      <td>2.0</td>\n",
       "      <td>0</td>\n",
       "      <td>0</td>\n",
       "      <td>3</td>\n",
       "      <td>6420</td>\n",
       "      <td>850</td>\n",
       "      <td>2010</td>\n",
       "      <td>0</td>\n",
       "      <td>7070 270th Pl SE</td>\n",
       "      <td>Issaquah</td>\n",
       "      <td>WA 98029</td>\n",
       "      <td>USA</td>\n",
       "    </tr>\n",
       "    <tr>\n",
       "      <th>3</th>\n",
       "      <td>2014-05-09 00:00:00</td>\n",
       "      <td>324000.0</td>\n",
       "      <td>3.0</td>\n",
       "      <td>2.25</td>\n",
       "      <td>998</td>\n",
       "      <td>904</td>\n",
       "      <td>2.0</td>\n",
       "      <td>0</td>\n",
       "      <td>0</td>\n",
       "      <td>3</td>\n",
       "      <td>798</td>\n",
       "      <td>200</td>\n",
       "      <td>2007</td>\n",
       "      <td>0</td>\n",
       "      <td>820 NW 95th St</td>\n",
       "      <td>Seattle</td>\n",
       "      <td>WA 98117</td>\n",
       "      <td>USA</td>\n",
       "    </tr>\n",
       "    <tr>\n",
       "      <th>4</th>\n",
       "      <td>2014-05-10 00:00:00</td>\n",
       "      <td>549900.0</td>\n",
       "      <td>5.0</td>\n",
       "      <td>2.75</td>\n",
       "      <td>3060</td>\n",
       "      <td>7015</td>\n",
       "      <td>1.0</td>\n",
       "      <td>0</td>\n",
       "      <td>0</td>\n",
       "      <td>5</td>\n",
       "      <td>1600</td>\n",
       "      <td>1460</td>\n",
       "      <td>1979</td>\n",
       "      <td>0</td>\n",
       "      <td>10834 31st Ave SW</td>\n",
       "      <td>Seattle</td>\n",
       "      <td>WA 98146</td>\n",
       "      <td>USA</td>\n",
       "    </tr>\n",
       "    <tr>\n",
       "      <th>5</th>\n",
       "      <td>2014-05-10 00:00:00</td>\n",
       "      <td>320000.0</td>\n",
       "      <td>3.0</td>\n",
       "      <td>2.50</td>\n",
       "      <td>2130</td>\n",
       "      <td>6969</td>\n",
       "      <td>2.0</td>\n",
       "      <td>0</td>\n",
       "      <td>0</td>\n",
       "      <td>3</td>\n",
       "      <td>2130</td>\n",
       "      <td>0</td>\n",
       "      <td>2003</td>\n",
       "      <td>0</td>\n",
       "      <td>Cedar to Green River Trail</td>\n",
       "      <td>Maple Valley</td>\n",
       "      <td>WA 98038</td>\n",
       "      <td>USA</td>\n",
       "    </tr>\n",
       "    <tr>\n",
       "      <th>6</th>\n",
       "      <td>2014-05-10 00:00:00</td>\n",
       "      <td>875000.0</td>\n",
       "      <td>4.0</td>\n",
       "      <td>2.00</td>\n",
       "      <td>2520</td>\n",
       "      <td>6000</td>\n",
       "      <td>1.0</td>\n",
       "      <td>0</td>\n",
       "      <td>0</td>\n",
       "      <td>3</td>\n",
       "      <td>1400</td>\n",
       "      <td>1120</td>\n",
       "      <td>1921</td>\n",
       "      <td>2007</td>\n",
       "      <td>6521 Fremont Ave N</td>\n",
       "      <td>Seattle</td>\n",
       "      <td>WA 98103</td>\n",
       "      <td>USA</td>\n",
       "    </tr>\n",
       "    <tr>\n",
       "      <th>7</th>\n",
       "      <td>2014-05-10 00:00:00</td>\n",
       "      <td>265000.0</td>\n",
       "      <td>4.0</td>\n",
       "      <td>1.00</td>\n",
       "      <td>1940</td>\n",
       "      <td>9533</td>\n",
       "      <td>1.0</td>\n",
       "      <td>0</td>\n",
       "      <td>0</td>\n",
       "      <td>3</td>\n",
       "      <td>1080</td>\n",
       "      <td>860</td>\n",
       "      <td>1962</td>\n",
       "      <td>2003</td>\n",
       "      <td>9908 S 210th Pl</td>\n",
       "      <td>Kent</td>\n",
       "      <td>WA 98031</td>\n",
       "      <td>USA</td>\n",
       "    </tr>\n",
       "  </tbody>\n",
       "</table>\n",
       "</div>"
      ],
      "text/plain": [
       "                  date      price  bedrooms  bathrooms  sqft_living  sqft_lot  \\\n",
       "0  2014-05-09 00:00:00   376000.0       3.0       2.00         1340      1384   \n",
       "1  2014-05-09 00:00:00   800000.0       4.0       3.25         3540    159430   \n",
       "2  2014-05-09 00:00:00  2238888.0       5.0       6.50         7270    130017   \n",
       "3  2014-05-09 00:00:00   324000.0       3.0       2.25          998       904   \n",
       "4  2014-05-10 00:00:00   549900.0       5.0       2.75         3060      7015   \n",
       "5  2014-05-10 00:00:00   320000.0       3.0       2.50         2130      6969   \n",
       "6  2014-05-10 00:00:00   875000.0       4.0       2.00         2520      6000   \n",
       "7  2014-05-10 00:00:00   265000.0       4.0       1.00         1940      9533   \n",
       "\n",
       "   floors  waterfront  view  condition  sqft_above  sqft_basement  yr_built  \\\n",
       "0     3.0           0     0          3        1340              0      2008   \n",
       "1     2.0           0     0          3        3540              0      2007   \n",
       "2     2.0           0     0          3        6420            850      2010   \n",
       "3     2.0           0     0          3         798            200      2007   \n",
       "4     1.0           0     0          5        1600           1460      1979   \n",
       "5     2.0           0     0          3        2130              0      2003   \n",
       "6     1.0           0     0          3        1400           1120      1921   \n",
       "7     1.0           0     0          3        1080            860      1962   \n",
       "\n",
       "   yr_renovated                      street          city  statezip country  \n",
       "0             0     9245-9249 Fremont Ave N       Seattle  WA 98103     USA  \n",
       "1             0            33001 NE 24th St     Carnation  WA 98014     USA  \n",
       "2             0            7070 270th Pl SE      Issaquah  WA 98029     USA  \n",
       "3             0              820 NW 95th St       Seattle  WA 98117     USA  \n",
       "4             0           10834 31st Ave SW       Seattle  WA 98146     USA  \n",
       "5             0  Cedar to Green River Trail  Maple Valley  WA 98038     USA  \n",
       "6          2007          6521 Fremont Ave N       Seattle  WA 98103     USA  \n",
       "7          2003             9908 S 210th Pl          Kent  WA 98031     USA  "
      ]
     },
     "execution_count": 3,
     "metadata": {},
     "output_type": "execute_result"
    }
   ],
   "source": [
    "import pandas as pd\n",
    "df = pd.read_csv(\"datasets/USA Housing Dataset.csv\")\n",
    "df.head(8)"
   ]
  },
  {
   "cell_type": "markdown",
   "id": "780c03f8-2c57-43a1-9ad6-776791a9af95",
   "metadata": {},
   "source": [
    "## Introduction "
   ]
  },
  {
   "cell_type": "markdown",
   "id": "b27728eb-11f1-4282-b4a2-898a9de065cb",
   "metadata": {},
   "source": [
    "Predicting house prices using a dataset from Kaggle that includes features like the number of bedrooms, bathrooms, living space size, population, and household price. It helps potential buyers understand fair market prices for properties with specific attributes, making it easier to decide whether a property is priced appropriately. Agents can use the model to help price homes accurately, avoiding underpricing or overpricing. Overall, it solves the problem of estimating housing prices, which can assist various stakeholders in making informed financial decisions regarding real estate."
   ]
  },
  {
   "cell_type": "markdown",
   "id": "72614d11-3063-476f-b1e4-80ffc5f44256",
   "metadata": {},
   "source": [
    "## Data Understanding and Pre-processing"
   ]
  },
  {
   "cell_type": "code",
   "execution_count": 6,
   "id": "7883fb5b-a6fa-4a4b-8b79-58c488757f8f",
   "metadata": {},
   "outputs": [
    {
     "data": {
      "text/plain": [
       "Index(['date', 'price', 'bedrooms', 'bathrooms', 'sqft_living', 'sqft_lot',\n",
       "       'floors', 'waterfront', 'view', 'condition', 'sqft_above',\n",
       "       'sqft_basement', 'yr_built', 'yr_renovated', 'street', 'city',\n",
       "       'statezip', 'country'],\n",
       "      dtype='object')"
      ]
     },
     "execution_count": 6,
     "metadata": {},
     "output_type": "execute_result"
    }
   ],
   "source": [
    "df.columns # found 18 columns"
   ]
  },
  {
   "cell_type": "code",
   "execution_count": 8,
   "id": "94c5c137-5214-44a6-a6c6-5c4ca764faab",
   "metadata": {},
   "outputs": [
    {
     "data": {
      "text/plain": [
       "date              object\n",
       "price            float64\n",
       "bedrooms         float64\n",
       "bathrooms        float64\n",
       "sqft_living        int64\n",
       "sqft_lot           int64\n",
       "floors           float64\n",
       "waterfront         int64\n",
       "view               int64\n",
       "condition          int64\n",
       "sqft_above         int64\n",
       "sqft_basement      int64\n",
       "yr_built           int64\n",
       "yr_renovated       int64\n",
       "street            object\n",
       "city              object\n",
       "statezip          object\n",
       "country           object\n",
       "dtype: object"
      ]
     },
     "execution_count": 8,
     "metadata": {},
     "output_type": "execute_result"
    }
   ],
   "source": [
    "df.dtypes"
   ]
  },
  {
   "cell_type": "code",
   "execution_count": 10,
   "id": "ba51172e-ff2b-4862-8b5c-4298f0860049",
   "metadata": {},
   "outputs": [
    {
     "data": {
      "text/plain": [
       "RangeIndex(start=0, stop=4140, step=1)"
      ]
     },
     "execution_count": 10,
     "metadata": {},
     "output_type": "execute_result"
    }
   ],
   "source": [
    "df.index"
   ]
  },
  {
   "cell_type": "code",
   "execution_count": 12,
   "id": "cabd5380-0710-4b45-9078-77a0d0a8a777",
   "metadata": {},
   "outputs": [
    {
     "data": {
      "text/plain": [
       "(4140, 18)"
      ]
     },
     "execution_count": 12,
     "metadata": {},
     "output_type": "execute_result"
    }
   ],
   "source": [
    "df.shape\n",
    "# 4140 rows and 18 columns (across)"
   ]
  },
  {
   "cell_type": "code",
   "execution_count": 14,
   "id": "f091125f-8e69-4d41-8335-5003906caa13",
   "metadata": {},
   "outputs": [
    {
     "data": {
      "text/html": [
       "<div>\n",
       "<style scoped>\n",
       "    .dataframe tbody tr th:only-of-type {\n",
       "        vertical-align: middle;\n",
       "    }\n",
       "\n",
       "    .dataframe tbody tr th {\n",
       "        vertical-align: top;\n",
       "    }\n",
       "\n",
       "    .dataframe thead th {\n",
       "        text-align: right;\n",
       "    }\n",
       "</style>\n",
       "<table border=\"1\" class=\"dataframe\">\n",
       "  <thead>\n",
       "    <tr style=\"text-align: right;\">\n",
       "      <th></th>\n",
       "      <th>price</th>\n",
       "      <th>bedrooms</th>\n",
       "      <th>bathrooms</th>\n",
       "      <th>sqft_living</th>\n",
       "      <th>sqft_lot</th>\n",
       "      <th>floors</th>\n",
       "      <th>waterfront</th>\n",
       "      <th>view</th>\n",
       "      <th>condition</th>\n",
       "      <th>sqft_above</th>\n",
       "      <th>sqft_basement</th>\n",
       "      <th>yr_built</th>\n",
       "      <th>yr_renovated</th>\n",
       "    </tr>\n",
       "  </thead>\n",
       "  <tbody>\n",
       "    <tr>\n",
       "      <th>count</th>\n",
       "      <td>4.140000e+03</td>\n",
       "      <td>4140.000000</td>\n",
       "      <td>4140.000000</td>\n",
       "      <td>4140.000000</td>\n",
       "      <td>4.140000e+03</td>\n",
       "      <td>4140.000000</td>\n",
       "      <td>4140.000000</td>\n",
       "      <td>4140.000000</td>\n",
       "      <td>4140.000000</td>\n",
       "      <td>4140.000000</td>\n",
       "      <td>4140.000000</td>\n",
       "      <td>4140.000000</td>\n",
       "      <td>4140.000000</td>\n",
       "    </tr>\n",
       "    <tr>\n",
       "      <th>mean</th>\n",
       "      <td>5.530629e+05</td>\n",
       "      <td>3.400483</td>\n",
       "      <td>2.163043</td>\n",
       "      <td>2143.638889</td>\n",
       "      <td>1.469764e+04</td>\n",
       "      <td>1.514130</td>\n",
       "      <td>0.007488</td>\n",
       "      <td>0.246618</td>\n",
       "      <td>3.452415</td>\n",
       "      <td>1831.351449</td>\n",
       "      <td>312.287440</td>\n",
       "      <td>1970.814010</td>\n",
       "      <td>808.368357</td>\n",
       "    </tr>\n",
       "    <tr>\n",
       "      <th>std</th>\n",
       "      <td>5.836865e+05</td>\n",
       "      <td>0.903939</td>\n",
       "      <td>0.784733</td>\n",
       "      <td>957.481621</td>\n",
       "      <td>3.587684e+04</td>\n",
       "      <td>0.534941</td>\n",
       "      <td>0.086219</td>\n",
       "      <td>0.790619</td>\n",
       "      <td>0.678533</td>\n",
       "      <td>861.382947</td>\n",
       "      <td>464.349222</td>\n",
       "      <td>29.807941</td>\n",
       "      <td>979.380535</td>\n",
       "    </tr>\n",
       "    <tr>\n",
       "      <th>min</th>\n",
       "      <td>0.000000e+00</td>\n",
       "      <td>0.000000</td>\n",
       "      <td>0.000000</td>\n",
       "      <td>370.000000</td>\n",
       "      <td>6.380000e+02</td>\n",
       "      <td>1.000000</td>\n",
       "      <td>0.000000</td>\n",
       "      <td>0.000000</td>\n",
       "      <td>1.000000</td>\n",
       "      <td>370.000000</td>\n",
       "      <td>0.000000</td>\n",
       "      <td>1900.000000</td>\n",
       "      <td>0.000000</td>\n",
       "    </tr>\n",
       "    <tr>\n",
       "      <th>25%</th>\n",
       "      <td>3.200000e+05</td>\n",
       "      <td>3.000000</td>\n",
       "      <td>1.750000</td>\n",
       "      <td>1470.000000</td>\n",
       "      <td>5.000000e+03</td>\n",
       "      <td>1.000000</td>\n",
       "      <td>0.000000</td>\n",
       "      <td>0.000000</td>\n",
       "      <td>3.000000</td>\n",
       "      <td>1190.000000</td>\n",
       "      <td>0.000000</td>\n",
       "      <td>1951.000000</td>\n",
       "      <td>0.000000</td>\n",
       "    </tr>\n",
       "    <tr>\n",
       "      <th>50%</th>\n",
       "      <td>4.600000e+05</td>\n",
       "      <td>3.000000</td>\n",
       "      <td>2.250000</td>\n",
       "      <td>1980.000000</td>\n",
       "      <td>7.676000e+03</td>\n",
       "      <td>1.500000</td>\n",
       "      <td>0.000000</td>\n",
       "      <td>0.000000</td>\n",
       "      <td>3.000000</td>\n",
       "      <td>1600.000000</td>\n",
       "      <td>0.000000</td>\n",
       "      <td>1976.000000</td>\n",
       "      <td>0.000000</td>\n",
       "    </tr>\n",
       "    <tr>\n",
       "      <th>75%</th>\n",
       "      <td>6.591250e+05</td>\n",
       "      <td>4.000000</td>\n",
       "      <td>2.500000</td>\n",
       "      <td>2620.000000</td>\n",
       "      <td>1.100000e+04</td>\n",
       "      <td>2.000000</td>\n",
       "      <td>0.000000</td>\n",
       "      <td>0.000000</td>\n",
       "      <td>4.000000</td>\n",
       "      <td>2310.000000</td>\n",
       "      <td>602.500000</td>\n",
       "      <td>1997.000000</td>\n",
       "      <td>1999.000000</td>\n",
       "    </tr>\n",
       "    <tr>\n",
       "      <th>max</th>\n",
       "      <td>2.659000e+07</td>\n",
       "      <td>8.000000</td>\n",
       "      <td>6.750000</td>\n",
       "      <td>10040.000000</td>\n",
       "      <td>1.074218e+06</td>\n",
       "      <td>3.500000</td>\n",
       "      <td>1.000000</td>\n",
       "      <td>4.000000</td>\n",
       "      <td>5.000000</td>\n",
       "      <td>8020.000000</td>\n",
       "      <td>4820.000000</td>\n",
       "      <td>2014.000000</td>\n",
       "      <td>2014.000000</td>\n",
       "    </tr>\n",
       "  </tbody>\n",
       "</table>\n",
       "</div>"
      ],
      "text/plain": [
       "              price     bedrooms    bathrooms   sqft_living      sqft_lot  \\\n",
       "count  4.140000e+03  4140.000000  4140.000000   4140.000000  4.140000e+03   \n",
       "mean   5.530629e+05     3.400483     2.163043   2143.638889  1.469764e+04   \n",
       "std    5.836865e+05     0.903939     0.784733    957.481621  3.587684e+04   \n",
       "min    0.000000e+00     0.000000     0.000000    370.000000  6.380000e+02   \n",
       "25%    3.200000e+05     3.000000     1.750000   1470.000000  5.000000e+03   \n",
       "50%    4.600000e+05     3.000000     2.250000   1980.000000  7.676000e+03   \n",
       "75%    6.591250e+05     4.000000     2.500000   2620.000000  1.100000e+04   \n",
       "max    2.659000e+07     8.000000     6.750000  10040.000000  1.074218e+06   \n",
       "\n",
       "            floors   waterfront         view    condition   sqft_above  \\\n",
       "count  4140.000000  4140.000000  4140.000000  4140.000000  4140.000000   \n",
       "mean      1.514130     0.007488     0.246618     3.452415  1831.351449   \n",
       "std       0.534941     0.086219     0.790619     0.678533   861.382947   \n",
       "min       1.000000     0.000000     0.000000     1.000000   370.000000   \n",
       "25%       1.000000     0.000000     0.000000     3.000000  1190.000000   \n",
       "50%       1.500000     0.000000     0.000000     3.000000  1600.000000   \n",
       "75%       2.000000     0.000000     0.000000     4.000000  2310.000000   \n",
       "max       3.500000     1.000000     4.000000     5.000000  8020.000000   \n",
       "\n",
       "       sqft_basement     yr_built  yr_renovated  \n",
       "count    4140.000000  4140.000000   4140.000000  \n",
       "mean      312.287440  1970.814010    808.368357  \n",
       "std       464.349222    29.807941    979.380535  \n",
       "min         0.000000  1900.000000      0.000000  \n",
       "25%         0.000000  1951.000000      0.000000  \n",
       "50%         0.000000  1976.000000      0.000000  \n",
       "75%       602.500000  1997.000000   1999.000000  \n",
       "max      4820.000000  2014.000000   2014.000000  "
      ]
     },
     "execution_count": 14,
     "metadata": {},
     "output_type": "execute_result"
    }
   ],
   "source": [
    "df.describe()"
   ]
  },
  {
   "cell_type": "markdown",
   "id": "e6f15229-9b74-4c3b-a1be-5e27d49492aa",
   "metadata": {},
   "source": [
    "Resource: \n",
    "\n",
    "It calculates and provides summary statistics like count, mean, standard deviation, minimum, maximum, and percentiles (25%, 50%, 75%) for each numeric column.\n",
    "For non-numeric columns (like strings), it provides statistics like count, unique values, top value, and frequency of the top value."
   ]
  },
  {
   "cell_type": "code",
   "execution_count": 18,
   "id": "28a7b482-41b3-40e4-9123-a0a23e731f09",
   "metadata": {},
   "outputs": [
    {
     "data": {
      "image/png": "[encoded data removed]",
      "text/plain": [
       "<Figure size 1000x600 with 1 Axes>"
      ]
     },
     "metadata": {},
     "output_type": "display_data"
    }
   ],
   "source": [
    "import pandas as pd\n",
    "import matplotlib.pyplot as plt\n",
    "\n",
    "df = pd.read_csv('datasets/USA Housing Dataset.csv')\n",
    "\n",
    "df['yr_built'] = pd.to_numeric(df['yr_built'], errors='coerce')\n",
    "df['price'] = pd.to_numeric(df['price'], errors='coerce')\n",
    "\n",
    "average_price_per_year = df.groupby('yr_built')['price'].mean().reset_index()\n",
    "plt.figure(figsize=(10, 6))\n",
    "plt.plot(average_price_per_year['yr_built'], average_price_per_year['price'], marker='o', color='red', linestyle='-', linewidth=2)\n",
    "\n",
    "plt.xlabel('yr_built')\n",
    "plt.ylabel('Average Price ($)')\n",
    "plt.title('Average House Price when constructed')\n",
    "plt.tight_layout()\n",
    "plt.show()"
   ]
  },
  {
   "cell_type": "code",
   "execution_count": 5,
   "id": "17c679c7-13ed-4a60-9819-118c92bd18d3",
   "metadata": {},
   "outputs": [
    {
     "data": {
      "text/plain": [
       "price            0\n",
       "bedrooms         0\n",
       "bathrooms        0\n",
       "sqft_living      0\n",
       "sqft_lot         0\n",
       "floors           0\n",
       "waterfront       0\n",
       "view             0\n",
       "condition        0\n",
       "sqft_above       0\n",
       "sqft_basement    0\n",
       "yr_built         0\n",
       "yr_renovated     0\n",
       "city             0\n",
       "dtype: int64"
      ]
     },
     "execution_count": 5,
     "metadata": {},
     "output_type": "execute_result"
    }
   ],
   "source": [
    "import pandas as pd\n",
    "import matplotlib.pyplot as plt\n",
    "\n",
    "df = pd.read_csv('datasets/USA Housing Dataset.csv')\n",
    "# Dropping irrelevant columns\n",
    "df_cleaned = df.drop(columns=['street', 'statezip', 'country', 'date'])\n",
    "missing_values = df_cleaned.isnull().sum()\n",
    "missing_values\n"
   ]
  },
  {
   "cell_type": "markdown",
   "id": "c85bf191-f674-48b4-8746-268f305bcd61",
   "metadata": {},
   "source": [
    "The 'street', 'statezip','country','data'are irravelent columns that don't require necessary exploration. \n",
    "There are no missing values in the dataset after looking for missing values. "
   ]
  },
  {
   "cell_type": "markdown",
   "id": "cd5df4f5-5065-4331-ab6d-8de41e3e695c",
   "metadata": {},
   "source": [
    "## Experiment # 1 Training + Testing + Evaluating performance"
   ]
  },
  {
   "cell_type": "markdown",
   "id": "966b21ac-6596-4a13-83e9-65d4484e181d",
   "metadata": {},
   "source": [
    "Next, I'll encode the city column using one-hot encoding and then split the data into features (X) and target (y) for model training. After that, we can scale the numerical features and proceed to build a linear regression model.\n",
    "Data Preparation "
   ]
  },
  {
   "cell_type": "code",
   "execution_count": 7,
   "id": "1d3a0347-0a43-4d5b-ae62-c6c1022a3d00",
   "metadata": {},
   "outputs": [
    {
     "data": {
      "text/plain": [
       "(54774079827.50566, 0.47752327662060257)"
      ]
     },
     "execution_count": 7,
     "metadata": {},
     "output_type": "execute_result"
    }
   ],
   "source": [
    "df_encoded = pd.get_dummies(df_cleaned, columns=['city'], drop_first=True)\n",
    "X = df_encoded.drop(columns=['price'])\n",
    "y = df_encoded['price']\n",
    "from sklearn.preprocessing import StandardScaler\n",
    "scaler = StandardScaler()\n",
    "X_scaled = scaler.fit_transform(X)\n",
    "\n",
    "from sklearn.model_selection import train_test_split\n",
    "X_train, X_test, y_train, y_test = train_test_split(X_scaled, y, test_size=0.2, random_state=42)\n",
    "from sklearn.linear_model import LinearRegression\n",
    "model = LinearRegression()\n",
    "model.fit(X_train, y_train)\n",
    "\n",
    "y_pred = model.predict(X_test)\n",
    "\n",
    "from sklearn.metrics import mean_squared_error, r2_score\n",
    "\n",
    "mse = mean_squared_error(y_test, y_pred)\n",
    "r2 = r2_score(y_test, y_pred)\n",
    "\n",
    "mse, r2\n"
   ]
  },
  {
   "cell_type": "markdown",
   "id": "0dd601fd-957c-43c2-bb2f-399f8f2bc575",
   "metadata": {},
   "source": [
    "Mean Squared Error (MSE): 54,828,701,952.41\n",
    "R-squared (R^(2)): 0.477\n",
    "47%"
   ]
  },
  {
   "cell_type": "markdown",
   "id": "cf5babe2-0270-48a8-999e-3c642db5fb36",
   "metadata": {},
   "source": [
    "## Experiment 1: Evualting Performance"
   ]
  },
  {
   "cell_type": "markdown",
   "id": "88d30382-5079-4a00-8566-3d276fc578f7",
   "metadata": {},
   "source": [
    "The R² score indicates that the model explains approximately 47.7% of the variance in housing prices, which leaves room for improvement. The MSE suggests that the average squared difference between predicted and actual prices is quite large, which might imply that additional features or different models could improve performance.\n"
   ]
  },
  {
   "cell_type": "markdown",
   "id": "077d7464-ff3f-4508-b74f-4bece8ad0d95",
   "metadata": {},
   "source": [
    "## Experiment 2: Evualting "
   ]
  },
  {
   "cell_type": "code",
   "execution_count": 7,
   "id": "939d37b9-d26b-460b-aee9-8451cbfa2e63",
   "metadata": {},
   "outputs": [
    {
     "name": "stdout",
     "output_type": "stream",
     "text": [
      "Random Forest Model Evaluation:\n",
      "Mean Squared Error (MSE): 57042027934.65769\n",
      "R-squared (R²): 0.45588986717673896\n"
     ]
    }
   ],
   "source": [
    "import pandas as pd\n",
    "from sklearn.model_selection import train_test_split\n",
    "from sklearn.ensemble import RandomForestRegressor\n",
    "from sklearn.preprocessing import StandardScaler\n",
    "from sklearn.metrics import mean_squared_error, r2_score\n",
    "housing_data = pd.read_csv(\"datasets/USA Housing Dataset.csv\")\n",
    "# DROPPING UNNECESSARY VARIABLES\n",
    "X = housing_data.drop(columns=['price', 'street', 'statezip', 'country', 'date'])\n",
    "y = housing_data['price']\n",
    "\n",
    "# One-hot encode the city\n",
    "X = pd.get_dummies(X, columns=['city'], drop_first=True)\n",
    "\n",
    "# Split them into two\n",
    "X_train, X_test, y_train, y_test = train_test_split(X, y, test_size=0.2, random_state=42)\n",
    "\n",
    "scaler = StandardScaler()\n",
    "X_train_scaled = scaler.fit_transform(X_train)\n",
    "X_test_scaled = scaler.transform(X_test)\n",
    "\n",
    "rf_model = RandomForestRegressor(n_estimators=100, random_state=42)\n",
    "rf_model.fit(X_train_scaled, y_train)\n",
    "\n",
    "y_pred_rf = rf_model.predict(X_test_scaled)\n",
    "mse_rf = mean_squared_error(y_test, y_pred_rf)\n",
    "r2_rf = r2_score(y_test, y_pred_rf)\n",
    "\n",
    "mse_rf, r2_rf\n",
    "print(\"Random Forest Model Evaluation:\")\n",
    "print(f\"Mean Squared Error (MSE): {mse_rf}\")\n",
    "print(f\"R-squared (R²): {r2_rf}\")\n"
   ]
  },
  {
   "cell_type": "markdown",
   "id": "0cdeabe6-e8b2-4c5a-afca-273ace375fe4",
   "metadata": {},
   "source": [
    "Experiment 2\n",
    "## 45.6%\n",
    "After making predictions, it evaluates the model using Mean Squared Error and R-squared metrics to gauge its performance. This provides insights into how well the Random Forest model fits the housing price data. Unfortuantely the 45.6% is still not tuning the data to our specifications. Further improvement is required to find exactly what we need to get R-Squared to increase. Another model would be used instead to fit the housing price data. "
   ]
  },
  {
   "cell_type": "markdown",
   "id": "26ea8b28-e2c0-469e-a169-48a767b50770",
   "metadata": {},
   "source": [
    "## Experiment 3"
   ]
  },
  {
   "cell_type": "code",
   "execution_count": 12,
   "id": "123cbfbd-b1c3-4b04-b2e7-e903de843b40",
   "metadata": {},
   "outputs": [
    {
     "data": {
      "text/plain": [
       "(108151522201.64642, -0.03163125928104904)"
      ]
     },
     "execution_count": 12,
     "metadata": {},
     "output_type": "execute_result"
    }
   ],
   "source": [
    "import pandas as pd\n",
    "from sklearn.model_selection import train_test_split\n",
    "from sklearn.ensemble import GradientBoostingRegressor\n",
    "from sklearn.preprocessing import StandardScaler\n",
    "from sklearn.metrics import mean_squared_error, r2_score\n",
    "\n",
    "\n",
    "housing_data = pd.read_csv(\"datasets/USA Housing Dataset.csv\")\n",
    "#Dropping the variables \n",
    "X = housing_data.drop(columns=['price', 'street', 'statezip', 'country', 'date'])\n",
    "y = housing_data['price']\n",
    "\n",
    "# One-hot encode the city\n",
    "X = pd.get_dummies(X, columns=['city'], drop_first=True)\n",
    "\n",
    "# Split \n",
    "X_train, X_test, y_train, y_test = train_test_split(X, y, test_size=0.2, random_state=42)\n",
    "\n",
    "\n",
    "scaler = StandardScaler()\n",
    "X_train_scaled = scaler.fit_transform(X_train)\n",
    "X_test_scaled = scaler.transform(X_test)\n",
    "\n",
    "\n",
    "gb_model = GradientBoostingRegressor(n_estimators=100, learning_rate=0.1, random_state=42)\n",
    "gb_model.fit(X_train_scaled, y_train)\n",
    "\n",
    "y_pred_gb = gb_model.predict(X_test_scaled)\n",
    "mse_gb = mean_squared_error(y_test, y_pred_gb)\n",
    "r2_gb = r2_score(y_test, y_pred_gb)\n",
    "\n",
    "mse_gb, r2_gb\n"
   ]
  },
  {
   "cell_type": "markdown",
   "id": "eabee828-0e89-4e99-9f27-43638a3cebe2",
   "metadata": {},
   "source": [
    "The evaluation results for the Gradient Boosting model are as follows:\n",
    "\n",
    "Mean Squared Error (MSE): 108,151,522,201.65\n",
    "R-squared (R²): -0.032 (indicating the model performed worse than a simple mean-based prediction)"
   ]
  },
  {
   "cell_type": "markdown",
   "id": "f753b7fc-731c-4f3d-8f8b-900d10db6523",
   "metadata": {},
   "source": [
    "After conducting Gradient Boosting model it has been concluded that the model is the worst of all three models. Clearly it does not fit well with the house dataset I would need to retrace my approach and fine tune some features that better to predict. "
   ]
  }
 ],
 "metadata": {
  "kernelspec": {
   "display_name": "Python 3 (ipykernel)",
   "language": "python",
   "name": "python3"
  },
  "language_info": {
   "codemirror_mode": {
    "name": "ipython",
    "version": 3
   },
   "file_extension": ".py",
   "mimetype": "text/x-python",
   "name": "python",
   "nbconvert_exporter": "python",
   "pygments_lexer": "ipython3",
   "version": "3.12.7"
  }
 },
 "nbformat": 4,
 "nbformat_minor": 5
}
