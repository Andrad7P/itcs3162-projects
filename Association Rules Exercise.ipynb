{
 "cells": [
  {
   "cell_type": "markdown",
   "id": "8d4bebc5",
   "metadata": {},
   "source": [
    "# Association Rules: Market Basket Analysis"
   ]
  },
  {
   "cell_type": "markdown",
   "id": "695c0659",
   "metadata": {},
   "source": [
    "## Import Libraries"
   ]
  },
  {
   "cell_type": "code",
   "execution_count": 5,
   "id": "8f95406b",
   "metadata": {},
   "outputs": [],
   "source": [
    "import pandas as pd\n",
    "import matplotlib.pyplot as plt\n",
    "import seaborn as sns"
   ]
  },
  {
   "cell_type": "markdown",
   "id": "1c6698fe",
   "metadata": {},
   "source": [
    "## Load Dataset"
   ]
  },
  {
   "cell_type": "markdown",
   "id": "199996d3",
   "metadata": {},
   "source": [
    "Dataset obtained from [here](https://archive.ics.uci.edu/ml/datasets/Online+Retail+II)."
   ]
  },
  {
   "cell_type": "markdown",
   "id": "8b78dece",
   "metadata": {},
   "source": [
    "<font color=\"red\">Load in your data. Make sure to also set `encoding=\"ISO-8859-1\"` as one of the `read_csv` parameters.</font>"
   ]
  },
  {
   "cell_type": "code",
   "execution_count": 13,
   "id": "880e0411",
   "metadata": {},
   "outputs": [],
   "source": [
    "df = pd.read_excel('datasets/online_retail.xlsx')\n"
   ]
  },
  {
   "cell_type": "code",
   "execution_count": 14,
   "id": "634d09bd",
   "metadata": {},
   "outputs": [
    {
     "data": {
      "text/html": [
       "<div>\n",
       "<style scoped>\n",
       "    .dataframe tbody tr th:only-of-type {\n",
       "        vertical-align: middle;\n",
       "    }\n",
       "\n",
       "    .dataframe tbody tr th {\n",
       "        vertical-align: top;\n",
       "    }\n",
       "\n",
       "    .dataframe thead th {\n",
       "        text-align: right;\n",
       "    }\n",
       "</style>\n",
       "<table border=\"1\" class=\"dataframe\">\n",
       "  <thead>\n",
       "    <tr style=\"text-align: right;\">\n",
       "      <th></th>\n",
       "      <th>Invoice</th>\n",
       "      <th>StockCode</th>\n",
       "      <th>Description</th>\n",
       "      <th>Quantity</th>\n",
       "      <th>InvoiceDate</th>\n",
       "      <th>Price</th>\n",
       "      <th>Customer ID</th>\n",
       "      <th>Country</th>\n",
       "    </tr>\n",
       "  </thead>\n",
       "  <tbody>\n",
       "    <tr>\n",
       "      <th>0</th>\n",
       "      <td>489434</td>\n",
       "      <td>85048</td>\n",
       "      <td>15CM CHRISTMAS GLASS BALL 20 LIGHTS</td>\n",
       "      <td>12</td>\n",
       "      <td>2009-12-01 07:45:00</td>\n",
       "      <td>6.95</td>\n",
       "      <td>13085.0</td>\n",
       "      <td>United Kingdom</td>\n",
       "    </tr>\n",
       "    <tr>\n",
       "      <th>1</th>\n",
       "      <td>489434</td>\n",
       "      <td>79323P</td>\n",
       "      <td>PINK CHERRY LIGHTS</td>\n",
       "      <td>12</td>\n",
       "      <td>2009-12-01 07:45:00</td>\n",
       "      <td>6.75</td>\n",
       "      <td>13085.0</td>\n",
       "      <td>United Kingdom</td>\n",
       "    </tr>\n",
       "    <tr>\n",
       "      <th>2</th>\n",
       "      <td>489434</td>\n",
       "      <td>79323W</td>\n",
       "      <td>WHITE CHERRY LIGHTS</td>\n",
       "      <td>12</td>\n",
       "      <td>2009-12-01 07:45:00</td>\n",
       "      <td>6.75</td>\n",
       "      <td>13085.0</td>\n",
       "      <td>United Kingdom</td>\n",
       "    </tr>\n",
       "    <tr>\n",
       "      <th>3</th>\n",
       "      <td>489434</td>\n",
       "      <td>22041</td>\n",
       "      <td>RECORD FRAME 7\" SINGLE SIZE</td>\n",
       "      <td>48</td>\n",
       "      <td>2009-12-01 07:45:00</td>\n",
       "      <td>2.10</td>\n",
       "      <td>13085.0</td>\n",
       "      <td>United Kingdom</td>\n",
       "    </tr>\n",
       "    <tr>\n",
       "      <th>4</th>\n",
       "      <td>489434</td>\n",
       "      <td>21232</td>\n",
       "      <td>STRAWBERRY CERAMIC TRINKET BOX</td>\n",
       "      <td>24</td>\n",
       "      <td>2009-12-01 07:45:00</td>\n",
       "      <td>1.25</td>\n",
       "      <td>13085.0</td>\n",
       "      <td>United Kingdom</td>\n",
       "    </tr>\n",
       "  </tbody>\n",
       "</table>\n",
       "</div>"
      ],
      "text/plain": [
       "  Invoice StockCode                          Description  Quantity  \\\n",
       "0  489434     85048  15CM CHRISTMAS GLASS BALL 20 LIGHTS        12   \n",
       "1  489434    79323P                   PINK CHERRY LIGHTS        12   \n",
       "2  489434    79323W                  WHITE CHERRY LIGHTS        12   \n",
       "3  489434     22041         RECORD FRAME 7\" SINGLE SIZE         48   \n",
       "4  489434     21232       STRAWBERRY CERAMIC TRINKET BOX        24   \n",
       "\n",
       "          InvoiceDate  Price  Customer ID         Country  \n",
       "0 2009-12-01 07:45:00   6.95      13085.0  United Kingdom  \n",
       "1 2009-12-01 07:45:00   6.75      13085.0  United Kingdom  \n",
       "2 2009-12-01 07:45:00   6.75      13085.0  United Kingdom  \n",
       "3 2009-12-01 07:45:00   2.10      13085.0  United Kingdom  \n",
       "4 2009-12-01 07:45:00   1.25      13085.0  United Kingdom  "
      ]
     },
     "execution_count": 14,
     "metadata": {},
     "output_type": "execute_result"
    }
   ],
   "source": [
    "df.head()"
   ]
  },
  {
   "cell_type": "code",
   "execution_count": 15,
   "id": "bfc7938a",
   "metadata": {},
   "outputs": [
    {
     "data": {
      "text/plain": [
       "(525461, 8)"
      ]
     },
     "execution_count": 15,
     "metadata": {},
     "output_type": "execute_result"
    }
   ],
   "source": [
    "df.shape"
   ]
  },
  {
   "cell_type": "markdown",
   "id": "074d2231",
   "metadata": {},
   "source": [
    "We have 8 features and 541,910 rows.  \n",
    "Looking at the source, this data comes from a UK-based online retail store selling gift-ware.  \n",
    "  \n",
    "Feature information:\n",
    "- InvoiceNo: Invoice number. Nominal. A 6-digit integral number uniquely assigned to each transaction. If this code starts with the letter 'c', it indicates a cancellation.\n",
    "- StockCode: Product (item) code. Nominal. A 5-digit integral number uniquely assigned to each distinct product.\n",
    "- Description: Product (item) name. Nominal.\n",
    "- Quantity: The quantities of each product (item) per transaction. Numeric.\n",
    "- InvoiceDate: Invice date and time. Numeric. The day and time when a transaction was generated.\n",
    "- UnitPrice: Unit price. Numeric. Product price per unit in sterling (Â£).\n",
    "- CustomerID: Customer number. Nominal. A 5-digit integral number uniquely assigned to each customer.\n",
    "- Country: Country name. Nominal. The name of the country where a customer resides."
   ]
  },
  {
   "cell_type": "markdown",
   "id": "c821da57",
   "metadata": {},
   "source": [
    "## Pre-processing"
   ]
  },
  {
   "cell_type": "markdown",
   "id": "71dedb9f",
   "metadata": {},
   "source": [
    "### Drop nulls"
   ]
  },
  {
   "cell_type": "markdown",
   "id": "c1fbea3d",
   "metadata": {},
   "source": [
    "<font color=\"red\">Drop nulls</font>"
   ]
  },
  {
   "cell_type": "code",
   "execution_count": 23,
   "id": "b829f97d",
   "metadata": {},
   "outputs": [
    {
     "data": {
      "text/html": [
       "<div>\n",
       "<style scoped>\n",
       "    .dataframe tbody tr th:only-of-type {\n",
       "        vertical-align: middle;\n",
       "    }\n",
       "\n",
       "    .dataframe tbody tr th {\n",
       "        vertical-align: top;\n",
       "    }\n",
       "\n",
       "    .dataframe thead th {\n",
       "        text-align: right;\n",
       "    }\n",
       "</style>\n",
       "<table border=\"1\" class=\"dataframe\">\n",
       "  <thead>\n",
       "    <tr style=\"text-align: right;\">\n",
       "      <th></th>\n",
       "      <th>Invoice</th>\n",
       "      <th>StockCode</th>\n",
       "      <th>Description</th>\n",
       "      <th>Quantity</th>\n",
       "      <th>InvoiceDate</th>\n",
       "      <th>Price</th>\n",
       "      <th>Customer ID</th>\n",
       "      <th>Country</th>\n",
       "    </tr>\n",
       "  </thead>\n",
       "  <tbody>\n",
       "    <tr>\n",
       "      <th>0</th>\n",
       "      <td>489434</td>\n",
       "      <td>85048</td>\n",
       "      <td>15CM CHRISTMAS GLASS BALL 20 LIGHTS</td>\n",
       "      <td>12</td>\n",
       "      <td>2009-12-01 07:45:00</td>\n",
       "      <td>6.95</td>\n",
       "      <td>13085.0</td>\n",
       "      <td>United Kingdom</td>\n",
       "    </tr>\n",
       "    <tr>\n",
       "      <th>1</th>\n",
       "      <td>489434</td>\n",
       "      <td>79323P</td>\n",
       "      <td>PINK CHERRY LIGHTS</td>\n",
       "      <td>12</td>\n",
       "      <td>2009-12-01 07:45:00</td>\n",
       "      <td>6.75</td>\n",
       "      <td>13085.0</td>\n",
       "      <td>United Kingdom</td>\n",
       "    </tr>\n",
       "    <tr>\n",
       "      <th>2</th>\n",
       "      <td>489434</td>\n",
       "      <td>79323W</td>\n",
       "      <td>WHITE CHERRY LIGHTS</td>\n",
       "      <td>12</td>\n",
       "      <td>2009-12-01 07:45:00</td>\n",
       "      <td>6.75</td>\n",
       "      <td>13085.0</td>\n",
       "      <td>United Kingdom</td>\n",
       "    </tr>\n",
       "    <tr>\n",
       "      <th>3</th>\n",
       "      <td>489434</td>\n",
       "      <td>22041</td>\n",
       "      <td>RECORD FRAME 7\" SINGLE SIZE</td>\n",
       "      <td>48</td>\n",
       "      <td>2009-12-01 07:45:00</td>\n",
       "      <td>2.10</td>\n",
       "      <td>13085.0</td>\n",
       "      <td>United Kingdom</td>\n",
       "    </tr>\n",
       "    <tr>\n",
       "      <th>4</th>\n",
       "      <td>489434</td>\n",
       "      <td>21232</td>\n",
       "      <td>STRAWBERRY CERAMIC TRINKET BOX</td>\n",
       "      <td>24</td>\n",
       "      <td>2009-12-01 07:45:00</td>\n",
       "      <td>1.25</td>\n",
       "      <td>13085.0</td>\n",
       "      <td>United Kingdom</td>\n",
       "    </tr>\n",
       "  </tbody>\n",
       "</table>\n",
       "</div>"
      ],
      "text/plain": [
       "  Invoice StockCode                          Description  Quantity  \\\n",
       "0  489434     85048  15CM CHRISTMAS GLASS BALL 20 LIGHTS        12   \n",
       "1  489434    79323P                   PINK CHERRY LIGHTS        12   \n",
       "2  489434    79323W                  WHITE CHERRY LIGHTS        12   \n",
       "3  489434     22041         RECORD FRAME 7\" SINGLE SIZE         48   \n",
       "4  489434     21232       STRAWBERRY CERAMIC TRINKET BOX        24   \n",
       "\n",
       "          InvoiceDate  Price  Customer ID         Country  \n",
       "0 2009-12-01 07:45:00   6.95      13085.0  United Kingdom  \n",
       "1 2009-12-01 07:45:00   6.75      13085.0  United Kingdom  \n",
       "2 2009-12-01 07:45:00   6.75      13085.0  United Kingdom  \n",
       "3 2009-12-01 07:45:00   2.10      13085.0  United Kingdom  \n",
       "4 2009-12-01 07:45:00   1.25      13085.0  United Kingdom  "
      ]
     },
     "execution_count": 23,
     "metadata": {},
     "output_type": "execute_result"
    }
   ],
   "source": [
    "df_cleaned = df.dropna()\n",
    "\n",
    "df_cleaned.head()"
   ]
  },
  {
   "cell_type": "code",
   "execution_count": 25,
   "id": "f0041704",
   "metadata": {},
   "outputs": [
    {
     "data": {
      "text/plain": [
       "(525461, 8)"
      ]
     },
     "execution_count": 25,
     "metadata": {},
     "output_type": "execute_result"
    }
   ],
   "source": [
    "df.shape"
   ]
  },
  {
   "cell_type": "markdown",
   "id": "3c72779b",
   "metadata": {},
   "source": [
    "We have 406,840 rows left after dropping any row with null values."
   ]
  },
  {
   "cell_type": "markdown",
   "id": "be133680",
   "metadata": {},
   "source": [
    "### Filter to only include positive quantities"
   ]
  },
  {
   "cell_type": "code",
   "execution_count": 29,
   "id": "f6bad52c",
   "metadata": {},
   "outputs": [
    {
     "data": {
      "text/plain": [
       "array([   12,    48,    24,    10,    18,     3,    16,     4,     2,\n",
       "           6,     8,     1,    28,    30,    60,    32,    56,     9,\n",
       "          25,    36,    20,   -12,    -6,    -4,   -24,    -3,    -2,\n",
       "         576,   288,    27,   -96,    64,   160,  -240,  -192,     5,\n",
       "          -1,    72,    50,    54,   -50,     7,   800,    11,    58,\n",
       "         192,    96,   144,   100,   180,   216,    15,   240,    22,\n",
       "         108,    33,    90,    81,   -81,   -48,    17,    -5,    14,\n",
       "          13,    40,    -8,    -9,    21,   120,   -44,   230, -1043,\n",
       "        -117,   200,   168,    19,   280,   128,  -150,   -18,   -23,\n",
       "          80,   300,   450,    61,  -770,  -720,   480,    -7,    88,\n",
       "          46,   -31,   -16,   954,  -954,  -200,   504,    45,   467,\n",
       "       -1012,  4320,  5184,  4008,   -25,   600,   505,   500,    23,\n",
       "          74,    47,   -89,   432,   252,    75,   184,  -600,  -504,\n",
       "        -252,  -246,  -169,    31,    38,  -106,   -36,   360,   107,\n",
       "          49,   -42,    42,    66,   -10,  -725,   222,    34,    52,\n",
       "         270,   -20,   -30,   -60,  3000,   400,    70,   936,   -32,\n",
       "        -120,    35,  -126,   -64,  -168,  -100,   256,  -108,   -67,\n",
       "        -360,  1500,    65,   -58,   320,   130,    26,   -45,   -54,\n",
       "        1002,  1080,   -46,    29,  -136, -1395,   -13,    67,  -350,\n",
       "         960,   864,   150,   126,   468,  -322,   -76,   -21,   -99,\n",
       "         336,   -29,   -17,   208,   334,   124,   125,   117,   -47,\n",
       "         -39,    39,  -396,    55,  -152,   -11,    78,   -70,   -38,\n",
       "         -19,  -144,   250,   -91,  2300,   520,   920,  1800,   152,\n",
       "          76,    79,   187,   453,   348,   445,   784,    37,  2000,\n",
       "         174,   163,    77,   350,   526,    86,  -113,  -207,    43,\n",
       "         316,  -632,    98,   112,    59,   -14,  -292,   -15,   -84,\n",
       "          89,  -104,  -450,   408,   -43,  1440,   832,   624,   204,\n",
       "         198,   608,   224, -2127,   -95,  -260,   720,   900,  -159,\n",
       "        -275,   -71,   -22,   -75,  -116,   -90,  -514,   271,    41,\n",
       "         264,   225,   104,   312,   164,  -428,   214,   -68,  -512,\n",
       "        -290,  -300,   303,   110,  -190,   -72,   284,   118,    71,\n",
       "        -160,   429,  -400,  1146,  -109,  -181,   -27,   -40,  6012,\n",
       "         866,  6144,  2040,  2520,  3888,  5280,  4800,  6768,  9312,\n",
       "       -1198, -1129,  -378,  -170,  -148,  -121,  -179,   384,   185,\n",
       "         -37,   -57,    44,  -171,   -66, -3669,  -211,   132,  -132,\n",
       "         -65,   219,  -141,   -26,   229,    62,    82,   114,  -243,\n",
       "         -51,   260,  -441,   156,  -284,   460,   -80,    84,   106,\n",
       "        -460,   374,   190,  -191,   -79,  -210,   -86,   484,   171,\n",
       "       19152,  3312,  1344,  2504,  1968,   482,  4176,  2880,  6696,\n",
       "        1200,  1400,  4200,   696,  3360,  3200,  3040,  2700,   115,\n",
       "          51,   -82,  -377,  -451, -2504,  9456,  -342, -4200,   176,\n",
       "          53,   -53,  -142,  -110,   -28,  -352,  -128,  -330,  -700,\n",
       "         700,   -62,   347,  1008,  -118,   -34,   -33,  -146,  -129,\n",
       "        -115,   140,   -69,   -63,   -56,   -61,  -455,  -432,  -212,\n",
       "        2472,   524,  -499,  -355,  -280,  -420,  -130,   -52,   -93,\n",
       "        -299,  -245,   -85,   -78,  -198,  -283,   -97,  -338,  -140,\n",
       "        -800, -1782,  -205,   141,   537, -3300,   129,  -122,  -310,\n",
       "        -250,   -35,   -59,   -49, -2916,  -370,    99,   205,   247,\n",
       "        -233,   420,   372,  2016,  -134,    87,   992, 12960, 12480,\n",
       "       12744,  1110,  4608,  5364,  1152,    68,    91,   148, -1060,\n",
       "        1000,   640,   -92,  -900,  -394, 10000,   -74, -5200, -5000,\n",
       "         899,  -161,  -328,  -127,   135,   -41,   840,   816,  -267,\n",
       "       -3140,   210,   161,   188,   145,   189,    73,   363,   234,\n",
       "          93,    83,   101,    57,   267,   324,   648,    85,  -112,\n",
       "        -716,  -114,  -276,   -55,   102,  -408, -1020, -9200, -1440,\n",
       "       -1800, -4800,   498,   768,  -288,  -204,   681,   528,  2651,\n",
       "         327, -1120,   246,   516,  -135,  -173,  -218,   -88,   299,\n",
       "        3600,   -98,  -234,  -145,  -257,   560, -3000,  -843,    97,\n",
       "        -180,  -626,  -309, -3340,   392,   -73,   396,   612, 10200,\n",
       "         -87,   322, -2200,  -119,  -359,  -259,  -201,  -125,   279,\n",
       "        -966,  -101,  -143,  -194, -1000,  -105,  -220,  -225, -9000,\n",
       "        -193, -2300,   195,  -500,  -156,   105,   175,  -480,  -312,\n",
       "         404,   136, -1200,  -235,   598,  -111,  -163,  -196,   680,\n",
       "         540,  5000,  2500,  -244,   808,  2664,  1728,   228,  2972,\n",
       "        1098,  1128,   684,  -590,   -77,  -440,   142,   276,  -851,\n",
       "        -230,   207,  -123,  -164,   134,   830,  -830,   730,   122,\n",
       "         293,  3500,   287,  -588,  -399,  -285,  1056,   220,   352,\n",
       "       -1158,   850,  -107,  2400,  -266,   170,  -576,  -320,  -648,\n",
       "         248,   330,  -155, -7100,  -239,    95,  -137,  -256, -7000,\n",
       "        -151,  -153,  -264,  -599,  2560,   113, -2560,   235,  -162,\n",
       "         387,  -387,  -206,  2304,  1120,  6000,  9600,   985, -1227,\n",
       "        3936,  2976,  4752,  1872,  1116,   567,   984,  1308,  2112,\n",
       "        2952,  4992,  2496,  3648,  1536,  1248,  1632,  7008,  7128,\n",
       "        3072,   444,  3744,  1104,    63, -4999,   239,   123,   157,\n",
       "         159,  -410, -6000, -9600,  -295,  -412, -1400,  -470,   143,\n",
       "         138,   149,   177,  -231,  1520, -1520,  -315,   254,   121,\n",
       "        -317,   394,   201,   103,  1920,  3960,  -999, -1480,  -242,\n",
       "        -364, -4354,   876,   756,  -575,   672,  -324,  2004,  -728,\n",
       "        1512,   704,   760,   464, -5184, -1248, -1536,  -864, -3648,\n",
       "       -2496, -4992, -2952, -2112, -1308,  -984,  -768,  -684,  -567,\n",
       "       -1116,  -372, -1872, -4752, -4320, -1104,  -960, -4608, -2000,\n",
       "       -3744,  -444, -3072, -7128, -7008, -1632, -2976, -3936,   139,\n",
       "         162,   448,   304,  -569,  3120,  1224,   196,   402,   625,\n",
       "        -390,  -178,  -166,   109,  1240,   155,  -216, -1152,  -174,\n",
       "        -384,   888,  -223,  -490,   137, -1609,   512, -1500,  1944,\n",
       "        1960,  9360,  6336,  -270, -8800, -6400,   203,   407,   367,\n",
       "         274,    94,   111,   585,   127,  1540,   286,   131,   354,\n",
       "        -258,   169,   486,   243,  -189,   154,   563,   290,   328,\n",
       "         513,   133,   119,   902,   242,   874,   835,   151,   165,\n",
       "         389,   236,   317,   441,   213,   212, -2400,  1680,  -327,\n",
       "        -248,  1584,   555,  -411,  -213,    69, -9360,  1824,   378,\n",
       "         258,   972,  1488,  1394,  -723,  -177], dtype=int64)"
      ]
     },
     "execution_count": 29,
     "metadata": {},
     "output_type": "execute_result"
    }
   ],
   "source": [
    "df['Quantity'].unique()"
   ]
  },
  {
   "cell_type": "markdown",
   "id": "21510d10",
   "metadata": {},
   "source": [
    "It is possible for a customer to cancel their order, resulting in a negative quantity. We only want to look at items the customers have actually purchased, so we will remove any negatives (or cancelled orders). "
   ]
  },
  {
   "cell_type": "code",
   "execution_count": 32,
   "id": "c9778027",
   "metadata": {},
   "outputs": [],
   "source": [
    "df = df[df['Quantity']>1] # this allows us to filter only rows where quantity > 1"
   ]
  },
  {
   "cell_type": "code",
   "execution_count": 34,
   "id": "64924762",
   "metadata": {},
   "outputs": [
    {
     "data": {
      "text/plain": [
       "(367017, 8)"
      ]
     },
     "execution_count": 34,
     "metadata": {},
     "output_type": "execute_result"
    }
   ],
   "source": [
    "df.shape"
   ]
  },
  {
   "cell_type": "markdown",
   "id": "b247510b",
   "metadata": {},
   "source": [
    "After filtering, we have a remaining 397,925 rows."
   ]
  },
  {
   "cell_type": "markdown",
   "id": "a8437148",
   "metadata": {},
   "source": [
    "### Filter to only UK transcations"
   ]
  },
  {
   "cell_type": "code",
   "execution_count": null,
   "id": "3675b7a3",
   "metadata": {
    "collapsed": true,
    "jupyter": {
     "outputs_hidden": true
    }
   },
   "outputs": [],
   "source": [
    "df['Country'].value_counts()"
   ]
  },
  {
   "cell_type": "markdown",
   "id": "d09074b8",
   "metadata": {},
   "source": [
    "<font color=\"red\">Filter the dataframe to include only transactions from the United Kingdom</font>"
   ]
  },
  {
   "cell_type": "code",
   "execution_count": 38,
   "id": "cbe49286",
   "metadata": {},
   "outputs": [],
   "source": [
    "df_uk = df_cleaned[df_cleaned['Country'] == 'United Kingdom']\n"
   ]
  },
  {
   "cell_type": "code",
   "execution_count": 40,
   "id": "edf7ad3d",
   "metadata": {},
   "outputs": [
    {
     "data": {
      "text/plain": [
       "((379423, 8),\n",
       " Country\n",
       " United Kingdom    379423\n",
       " Name: count, dtype: int64)"
      ]
     },
     "execution_count": 40,
     "metadata": {},
     "output_type": "execute_result"
    }
   ],
   "source": [
    "df_uk.shape, df_uk['Country'].value_counts()"
   ]
  },
  {
   "cell_type": "markdown",
   "id": "9264f089",
   "metadata": {},
   "source": [
    "Now we should have 282,944 rows left."
   ]
  },
  {
   "cell_type": "markdown",
   "id": "a041a28b",
   "metadata": {},
   "source": [
    "But, each row is an individual item in a given transaction. To work with Apriori algorithm, we want each row to be a transaction along with all the purchased items."
   ]
  },
  {
   "cell_type": "markdown",
   "id": "c8840155",
   "metadata": {},
   "source": [
    "### One Hot Encoding of our items"
   ]
  },
  {
   "cell_type": "code",
   "execution_count": 45,
   "id": "ead3fc69",
   "metadata": {},
   "outputs": [
    {
     "data": {
      "text/html": [
       "<div>\n",
       "<style scoped>\n",
       "    .dataframe tbody tr th:only-of-type {\n",
       "        vertical-align: middle;\n",
       "    }\n",
       "\n",
       "    .dataframe tbody tr th {\n",
       "        vertical-align: top;\n",
       "    }\n",
       "\n",
       "    .dataframe thead th {\n",
       "        text-align: right;\n",
       "    }\n",
       "</style>\n",
       "<table border=\"1\" class=\"dataframe\">\n",
       "  <thead>\n",
       "    <tr style=\"text-align: right;\">\n",
       "      <th></th>\n",
       "      <th>Invoice</th>\n",
       "      <th>StockCode</th>\n",
       "      <th>Description</th>\n",
       "      <th>Quantity</th>\n",
       "      <th>InvoiceDate</th>\n",
       "      <th>Price</th>\n",
       "      <th>Customer ID</th>\n",
       "      <th>Country</th>\n",
       "    </tr>\n",
       "  </thead>\n",
       "  <tbody>\n",
       "    <tr>\n",
       "      <th>0</th>\n",
       "      <td>489434</td>\n",
       "      <td>85048</td>\n",
       "      <td>15CM CHRISTMAS GLASS BALL 20 LIGHTS</td>\n",
       "      <td>12</td>\n",
       "      <td>2009-12-01 07:45:00</td>\n",
       "      <td>6.95</td>\n",
       "      <td>13085.0</td>\n",
       "      <td>United Kingdom</td>\n",
       "    </tr>\n",
       "    <tr>\n",
       "      <th>1</th>\n",
       "      <td>489434</td>\n",
       "      <td>79323P</td>\n",
       "      <td>PINK CHERRY LIGHTS</td>\n",
       "      <td>12</td>\n",
       "      <td>2009-12-01 07:45:00</td>\n",
       "      <td>6.75</td>\n",
       "      <td>13085.0</td>\n",
       "      <td>United Kingdom</td>\n",
       "    </tr>\n",
       "    <tr>\n",
       "      <th>2</th>\n",
       "      <td>489434</td>\n",
       "      <td>79323W</td>\n",
       "      <td>WHITE CHERRY LIGHTS</td>\n",
       "      <td>12</td>\n",
       "      <td>2009-12-01 07:45:00</td>\n",
       "      <td>6.75</td>\n",
       "      <td>13085.0</td>\n",
       "      <td>United Kingdom</td>\n",
       "    </tr>\n",
       "    <tr>\n",
       "      <th>3</th>\n",
       "      <td>489434</td>\n",
       "      <td>22041</td>\n",
       "      <td>RECORD FRAME 7\" SINGLE SIZE</td>\n",
       "      <td>48</td>\n",
       "      <td>2009-12-01 07:45:00</td>\n",
       "      <td>2.10</td>\n",
       "      <td>13085.0</td>\n",
       "      <td>United Kingdom</td>\n",
       "    </tr>\n",
       "    <tr>\n",
       "      <th>4</th>\n",
       "      <td>489434</td>\n",
       "      <td>21232</td>\n",
       "      <td>STRAWBERRY CERAMIC TRINKET BOX</td>\n",
       "      <td>24</td>\n",
       "      <td>2009-12-01 07:45:00</td>\n",
       "      <td>1.25</td>\n",
       "      <td>13085.0</td>\n",
       "      <td>United Kingdom</td>\n",
       "    </tr>\n",
       "  </tbody>\n",
       "</table>\n",
       "</div>"
      ],
      "text/plain": [
       "  Invoice StockCode                          Description  Quantity  \\\n",
       "0  489434     85048  15CM CHRISTMAS GLASS BALL 20 LIGHTS        12   \n",
       "1  489434    79323P                   PINK CHERRY LIGHTS        12   \n",
       "2  489434    79323W                  WHITE CHERRY LIGHTS        12   \n",
       "3  489434     22041         RECORD FRAME 7\" SINGLE SIZE         48   \n",
       "4  489434     21232       STRAWBERRY CERAMIC TRINKET BOX        24   \n",
       "\n",
       "          InvoiceDate  Price  Customer ID         Country  \n",
       "0 2009-12-01 07:45:00   6.95      13085.0  United Kingdom  \n",
       "1 2009-12-01 07:45:00   6.75      13085.0  United Kingdom  \n",
       "2 2009-12-01 07:45:00   6.75      13085.0  United Kingdom  \n",
       "3 2009-12-01 07:45:00   2.10      13085.0  United Kingdom  \n",
       "4 2009-12-01 07:45:00   1.25      13085.0  United Kingdom  "
      ]
     },
     "execution_count": 45,
     "metadata": {},
     "output_type": "execute_result"
    }
   ],
   "source": [
    "df.head()"
   ]
  },
  {
   "cell_type": "markdown",
   "id": "3a3925e0",
   "metadata": {},
   "source": [
    "We just want a table with each row being an individual invoice, and each column being the various items (0 if not purchased, 1 if purchased). The exact quantity does not matter since we have already filtered out those more than 0 (meaning it was purchased)."
   ]
  },
  {
   "cell_type": "code",
   "execution_count": 48,
   "id": "41a13df6",
   "metadata": {},
   "outputs": [
    {
     "ename": "TypeError",
     "evalue": "'<' not supported between instances of 'str' and 'int'",
     "output_type": "error",
     "traceback": [
      "\u001b[1;31m---------------------------------------------------------------------------\u001b[0m",
      "\u001b[1;31mTypeError\u001b[0m                                 Traceback (most recent call last)",
      "Cell \u001b[1;32mIn[48], line 1\u001b[0m\n\u001b[1;32m----> 1\u001b[0m df_enc \u001b[38;5;241m=\u001b[39m df[[\u001b[38;5;124m'\u001b[39m\u001b[38;5;124mInvoice\u001b[39m\u001b[38;5;124m'\u001b[39m,\u001b[38;5;124m'\u001b[39m\u001b[38;5;124mDescription\u001b[39m\u001b[38;5;124m'\u001b[39m]]\u001b[38;5;241m.\u001b[39mpivot_table(index\u001b[38;5;241m=\u001b[39m[\u001b[38;5;124m'\u001b[39m\u001b[38;5;124mInvoice\u001b[39m\u001b[38;5;124m'\u001b[39m], columns\u001b[38;5;241m=\u001b[39m[\u001b[38;5;124m'\u001b[39m\u001b[38;5;124mDescription\u001b[39m\u001b[38;5;124m'\u001b[39m], aggfunc\u001b[38;5;241m=\u001b[39m[\u001b[38;5;28mlen\u001b[39m], fill_value\u001b[38;5;241m=\u001b[39m\u001b[38;5;241m0\u001b[39m)\n",
      "File \u001b[1;32m~\\anaconda3\\Lib\\site-packages\\pandas\\core\\frame.py:9509\u001b[0m, in \u001b[0;36mDataFrame.pivot_table\u001b[1;34m(self, values, index, columns, aggfunc, fill_value, margins, dropna, margins_name, observed, sort)\u001b[0m\n\u001b[0;32m   9492\u001b[0m \u001b[38;5;129m@Substitution\u001b[39m(\u001b[38;5;124m\"\u001b[39m\u001b[38;5;124m\"\u001b[39m)\n\u001b[0;32m   9493\u001b[0m \u001b[38;5;129m@Appender\u001b[39m(_shared_docs[\u001b[38;5;124m\"\u001b[39m\u001b[38;5;124mpivot_table\u001b[39m\u001b[38;5;124m\"\u001b[39m])\n\u001b[0;32m   9494\u001b[0m \u001b[38;5;28;01mdef\u001b[39;00m \u001b[38;5;21mpivot_table\u001b[39m(\n\u001b[1;32m   (...)\u001b[0m\n\u001b[0;32m   9505\u001b[0m     sort: \u001b[38;5;28mbool\u001b[39m \u001b[38;5;241m=\u001b[39m \u001b[38;5;28;01mTrue\u001b[39;00m,\n\u001b[0;32m   9506\u001b[0m ) \u001b[38;5;241m-\u001b[39m\u001b[38;5;241m>\u001b[39m DataFrame:\n\u001b[0;32m   9507\u001b[0m     \u001b[38;5;28;01mfrom\u001b[39;00m \u001b[38;5;21;01mpandas\u001b[39;00m\u001b[38;5;21;01m.\u001b[39;00m\u001b[38;5;21;01mcore\u001b[39;00m\u001b[38;5;21;01m.\u001b[39;00m\u001b[38;5;21;01mreshape\u001b[39;00m\u001b[38;5;21;01m.\u001b[39;00m\u001b[38;5;21;01mpivot\u001b[39;00m \u001b[38;5;28;01mimport\u001b[39;00m pivot_table\n\u001b[1;32m-> 9509\u001b[0m     \u001b[38;5;28;01mreturn\u001b[39;00m pivot_table(\n\u001b[0;32m   9510\u001b[0m         \u001b[38;5;28mself\u001b[39m,\n\u001b[0;32m   9511\u001b[0m         values\u001b[38;5;241m=\u001b[39mvalues,\n\u001b[0;32m   9512\u001b[0m         index\u001b[38;5;241m=\u001b[39mindex,\n\u001b[0;32m   9513\u001b[0m         columns\u001b[38;5;241m=\u001b[39mcolumns,\n\u001b[0;32m   9514\u001b[0m         aggfunc\u001b[38;5;241m=\u001b[39maggfunc,\n\u001b[0;32m   9515\u001b[0m         fill_value\u001b[38;5;241m=\u001b[39mfill_value,\n\u001b[0;32m   9516\u001b[0m         margins\u001b[38;5;241m=\u001b[39mmargins,\n\u001b[0;32m   9517\u001b[0m         dropna\u001b[38;5;241m=\u001b[39mdropna,\n\u001b[0;32m   9518\u001b[0m         margins_name\u001b[38;5;241m=\u001b[39mmargins_name,\n\u001b[0;32m   9519\u001b[0m         observed\u001b[38;5;241m=\u001b[39mobserved,\n\u001b[0;32m   9520\u001b[0m         sort\u001b[38;5;241m=\u001b[39msort,\n\u001b[0;32m   9521\u001b[0m     )\n",
      "File \u001b[1;32m~\\anaconda3\\Lib\\site-packages\\pandas\\core\\reshape\\pivot.py:83\u001b[0m, in \u001b[0;36mpivot_table\u001b[1;34m(data, values, index, columns, aggfunc, fill_value, margins, dropna, margins_name, observed, sort)\u001b[0m\n\u001b[0;32m     81\u001b[0m keys \u001b[38;5;241m=\u001b[39m []\n\u001b[0;32m     82\u001b[0m \u001b[38;5;28;01mfor\u001b[39;00m func \u001b[38;5;129;01min\u001b[39;00m aggfunc:\n\u001b[1;32m---> 83\u001b[0m     _table \u001b[38;5;241m=\u001b[39m __internal_pivot_table(\n\u001b[0;32m     84\u001b[0m         data,\n\u001b[0;32m     85\u001b[0m         values\u001b[38;5;241m=\u001b[39mvalues,\n\u001b[0;32m     86\u001b[0m         index\u001b[38;5;241m=\u001b[39mindex,\n\u001b[0;32m     87\u001b[0m         columns\u001b[38;5;241m=\u001b[39mcolumns,\n\u001b[0;32m     88\u001b[0m         fill_value\u001b[38;5;241m=\u001b[39mfill_value,\n\u001b[0;32m     89\u001b[0m         aggfunc\u001b[38;5;241m=\u001b[39mfunc,\n\u001b[0;32m     90\u001b[0m         margins\u001b[38;5;241m=\u001b[39mmargins,\n\u001b[0;32m     91\u001b[0m         dropna\u001b[38;5;241m=\u001b[39mdropna,\n\u001b[0;32m     92\u001b[0m         margins_name\u001b[38;5;241m=\u001b[39mmargins_name,\n\u001b[0;32m     93\u001b[0m         observed\u001b[38;5;241m=\u001b[39mobserved,\n\u001b[0;32m     94\u001b[0m         sort\u001b[38;5;241m=\u001b[39msort,\n\u001b[0;32m     95\u001b[0m     )\n\u001b[0;32m     96\u001b[0m     pieces\u001b[38;5;241m.\u001b[39mappend(_table)\n\u001b[0;32m     97\u001b[0m     keys\u001b[38;5;241m.\u001b[39mappend(\u001b[38;5;28mgetattr\u001b[39m(func, \u001b[38;5;124m\"\u001b[39m\u001b[38;5;124m__name__\u001b[39m\u001b[38;5;124m\"\u001b[39m, func))\n",
      "File \u001b[1;32m~\\anaconda3\\Lib\\site-packages\\pandas\\core\\reshape\\pivot.py:219\u001b[0m, in \u001b[0;36m__internal_pivot_table\u001b[1;34m(data, values, index, columns, aggfunc, fill_value, margins, dropna, margins_name, observed, sort)\u001b[0m\n\u001b[0;32m    216\u001b[0m         table \u001b[38;5;241m=\u001b[39m table\u001b[38;5;241m.\u001b[39mreindex(m, axis\u001b[38;5;241m=\u001b[39m\u001b[38;5;241m1\u001b[39m, fill_value\u001b[38;5;241m=\u001b[39mfill_value)\n\u001b[0;32m    218\u001b[0m \u001b[38;5;28;01mif\u001b[39;00m sort \u001b[38;5;129;01mis\u001b[39;00m \u001b[38;5;28;01mTrue\u001b[39;00m \u001b[38;5;129;01mand\u001b[39;00m \u001b[38;5;28misinstance\u001b[39m(table, ABCDataFrame):\n\u001b[1;32m--> 219\u001b[0m     table \u001b[38;5;241m=\u001b[39m table\u001b[38;5;241m.\u001b[39msort_index(axis\u001b[38;5;241m=\u001b[39m\u001b[38;5;241m1\u001b[39m)\n\u001b[0;32m    221\u001b[0m \u001b[38;5;28;01mif\u001b[39;00m fill_value \u001b[38;5;129;01mis\u001b[39;00m \u001b[38;5;129;01mnot\u001b[39;00m \u001b[38;5;28;01mNone\u001b[39;00m:\n\u001b[0;32m    222\u001b[0m     table \u001b[38;5;241m=\u001b[39m table\u001b[38;5;241m.\u001b[39mfillna(fill_value)\n",
      "File \u001b[1;32m~\\anaconda3\\Lib\\site-packages\\pandas\\core\\frame.py:7379\u001b[0m, in \u001b[0;36mDataFrame.sort_index\u001b[1;34m(self, axis, level, ascending, inplace, kind, na_position, sort_remaining, ignore_index, key)\u001b[0m\n\u001b[0;32m   7282\u001b[0m \u001b[38;5;28;01mdef\u001b[39;00m \u001b[38;5;21msort_index\u001b[39m(\n\u001b[0;32m   7283\u001b[0m     \u001b[38;5;28mself\u001b[39m,\n\u001b[0;32m   7284\u001b[0m     \u001b[38;5;241m*\u001b[39m,\n\u001b[1;32m   (...)\u001b[0m\n\u001b[0;32m   7293\u001b[0m     key: IndexKeyFunc \u001b[38;5;241m|\u001b[39m \u001b[38;5;28;01mNone\u001b[39;00m \u001b[38;5;241m=\u001b[39m \u001b[38;5;28;01mNone\u001b[39;00m,\n\u001b[0;32m   7294\u001b[0m ) \u001b[38;5;241m-\u001b[39m\u001b[38;5;241m>\u001b[39m DataFrame \u001b[38;5;241m|\u001b[39m \u001b[38;5;28;01mNone\u001b[39;00m:\n\u001b[0;32m   7295\u001b[0m \u001b[38;5;250m    \u001b[39m\u001b[38;5;124;03m\"\"\"\u001b[39;00m\n\u001b[0;32m   7296\u001b[0m \u001b[38;5;124;03m    Sort object by labels (along an axis).\u001b[39;00m\n\u001b[0;32m   7297\u001b[0m \n\u001b[1;32m   (...)\u001b[0m\n\u001b[0;32m   7377\u001b[0m \u001b[38;5;124;03m    d  4\u001b[39;00m\n\u001b[0;32m   7378\u001b[0m \u001b[38;5;124;03m    \"\"\"\u001b[39;00m\n\u001b[1;32m-> 7379\u001b[0m     \u001b[38;5;28;01mreturn\u001b[39;00m \u001b[38;5;28msuper\u001b[39m()\u001b[38;5;241m.\u001b[39msort_index(\n\u001b[0;32m   7380\u001b[0m         axis\u001b[38;5;241m=\u001b[39maxis,\n\u001b[0;32m   7381\u001b[0m         level\u001b[38;5;241m=\u001b[39mlevel,\n\u001b[0;32m   7382\u001b[0m         ascending\u001b[38;5;241m=\u001b[39mascending,\n\u001b[0;32m   7383\u001b[0m         inplace\u001b[38;5;241m=\u001b[39minplace,\n\u001b[0;32m   7384\u001b[0m         kind\u001b[38;5;241m=\u001b[39mkind,\n\u001b[0;32m   7385\u001b[0m         na_position\u001b[38;5;241m=\u001b[39mna_position,\n\u001b[0;32m   7386\u001b[0m         sort_remaining\u001b[38;5;241m=\u001b[39msort_remaining,\n\u001b[0;32m   7387\u001b[0m         ignore_index\u001b[38;5;241m=\u001b[39mignore_index,\n\u001b[0;32m   7388\u001b[0m         key\u001b[38;5;241m=\u001b[39mkey,\n\u001b[0;32m   7389\u001b[0m     )\n",
      "File \u001b[1;32m~\\anaconda3\\Lib\\site-packages\\pandas\\core\\generic.py:5309\u001b[0m, in \u001b[0;36mNDFrame.sort_index\u001b[1;34m(self, axis, level, ascending, inplace, kind, na_position, sort_remaining, ignore_index, key)\u001b[0m\n\u001b[0;32m   5305\u001b[0m ascending \u001b[38;5;241m=\u001b[39m validate_ascending(ascending)\n\u001b[0;32m   5307\u001b[0m target \u001b[38;5;241m=\u001b[39m \u001b[38;5;28mself\u001b[39m\u001b[38;5;241m.\u001b[39m_get_axis(axis)\n\u001b[1;32m-> 5309\u001b[0m indexer \u001b[38;5;241m=\u001b[39m get_indexer_indexer(\n\u001b[0;32m   5310\u001b[0m     target, level, ascending, kind, na_position, sort_remaining, key\n\u001b[0;32m   5311\u001b[0m )\n\u001b[0;32m   5313\u001b[0m \u001b[38;5;28;01mif\u001b[39;00m indexer \u001b[38;5;129;01mis\u001b[39;00m \u001b[38;5;28;01mNone\u001b[39;00m:\n\u001b[0;32m   5314\u001b[0m     \u001b[38;5;28;01mif\u001b[39;00m inplace:\n",
      "File \u001b[1;32m~\\anaconda3\\Lib\\site-packages\\pandas\\core\\sorting.py:113\u001b[0m, in \u001b[0;36mget_indexer_indexer\u001b[1;34m(target, level, ascending, kind, na_position, sort_remaining, key)\u001b[0m\n\u001b[0;32m    108\u001b[0m     indexer \u001b[38;5;241m=\u001b[39m lexsort_indexer(\n\u001b[0;32m    109\u001b[0m         codes, orders\u001b[38;5;241m=\u001b[39mascending, na_position\u001b[38;5;241m=\u001b[39mna_position, codes_given\u001b[38;5;241m=\u001b[39m\u001b[38;5;28;01mTrue\u001b[39;00m\n\u001b[0;32m    110\u001b[0m     )\n\u001b[0;32m    111\u001b[0m \u001b[38;5;28;01melse\u001b[39;00m:\n\u001b[0;32m    112\u001b[0m     \u001b[38;5;66;03m# ascending can only be a Sequence for MultiIndex\u001b[39;00m\n\u001b[1;32m--> 113\u001b[0m     indexer \u001b[38;5;241m=\u001b[39m nargsort(\n\u001b[0;32m    114\u001b[0m         target,\n\u001b[0;32m    115\u001b[0m         kind\u001b[38;5;241m=\u001b[39mkind,\n\u001b[0;32m    116\u001b[0m         ascending\u001b[38;5;241m=\u001b[39mcast(\u001b[38;5;28mbool\u001b[39m, ascending),\n\u001b[0;32m    117\u001b[0m         na_position\u001b[38;5;241m=\u001b[39mna_position,\n\u001b[0;32m    118\u001b[0m     )\n\u001b[0;32m    119\u001b[0m \u001b[38;5;28;01mreturn\u001b[39;00m indexer\n",
      "File \u001b[1;32m~\\anaconda3\\Lib\\site-packages\\pandas\\core\\sorting.py:439\u001b[0m, in \u001b[0;36mnargsort\u001b[1;34m(items, kind, ascending, na_position, key, mask)\u001b[0m\n\u001b[0;32m    437\u001b[0m     non_nans \u001b[38;5;241m=\u001b[39m non_nans[::\u001b[38;5;241m-\u001b[39m\u001b[38;5;241m1\u001b[39m]\n\u001b[0;32m    438\u001b[0m     non_nan_idx \u001b[38;5;241m=\u001b[39m non_nan_idx[::\u001b[38;5;241m-\u001b[39m\u001b[38;5;241m1\u001b[39m]\n\u001b[1;32m--> 439\u001b[0m indexer \u001b[38;5;241m=\u001b[39m non_nan_idx[non_nans\u001b[38;5;241m.\u001b[39margsort(kind\u001b[38;5;241m=\u001b[39mkind)]\n\u001b[0;32m    440\u001b[0m \u001b[38;5;28;01mif\u001b[39;00m \u001b[38;5;129;01mnot\u001b[39;00m ascending:\n\u001b[0;32m    441\u001b[0m     indexer \u001b[38;5;241m=\u001b[39m indexer[::\u001b[38;5;241m-\u001b[39m\u001b[38;5;241m1\u001b[39m]\n",
      "\u001b[1;31mTypeError\u001b[0m: '<' not supported between instances of 'str' and 'int'"
     ]
    }
   ],
   "source": [
    "df_enc = df[['Invoice','Description']].pivot_table(index=['Invoice'], columns=['Description'], aggfunc=[len], fill_value=0)"
   ]
  },
  {
   "cell_type": "markdown",
   "id": "48eb862b",
   "metadata": {},
   "source": [
    "There are some instances of 2's and 3's, etc... instead of just 1's. So we will clean that as well."
   ]
  },
  {
   "cell_type": "code",
   "execution_count": null,
   "id": "dda169ab",
   "metadata": {},
   "outputs": [],
   "source": [
    "def encode(x):\n",
    "    if x >= 1:\n",
    "        return 1\n",
    "    # else\n",
    "    return 0"
   ]
  },
  {
   "cell_type": "code",
   "execution_count": null,
   "id": "e6d9e0c1",
   "metadata": {},
   "outputs": [],
   "source": [
    "df_enc = df_enc.applymap(encode)"
   ]
  },
  {
   "cell_type": "code",
   "execution_count": null,
   "id": "f717c82b",
   "metadata": {},
   "outputs": [],
   "source": [
    "df_enc"
   ]
  },
  {
   "cell_type": "markdown",
   "id": "b1781cf5",
   "metadata": {},
   "source": [
    "Let's briefly check this with our first invoice: 536365  \n",
    "The below shows the sum of different items purchased for each invoice."
   ]
  },
  {
   "cell_type": "code",
   "execution_count": null,
   "id": "3d2e8fe3",
   "metadata": {},
   "outputs": [],
   "source": [
    "df_enc[df_enc == 1].sum(axis=1)"
   ]
  },
  {
   "cell_type": "markdown",
   "id": "877a01d4",
   "metadata": {},
   "source": [
    "When checking below, we see that invoice 536365 had 7 different items."
   ]
  },
  {
   "cell_type": "code",
   "execution_count": null,
   "id": "1ba07cbc",
   "metadata": {},
   "outputs": [],
   "source": [
    "df.head(10)"
   ]
  },
  {
   "cell_type": "markdown",
   "id": "5b417d7d",
   "metadata": {},
   "source": [
    "### Filter out transactions with only one purchase"
   ]
  },
  {
   "cell_type": "markdown",
   "id": "ef679d7b",
   "metadata": {},
   "source": [
    "Before we run Apriori algorithm, we only want to perform this on transactions that had more than one purchase. When looking for assocation rules, we are looking for what purchased items are related to each other. If a transaction only has one purchase, this doesn't help us much. *So we will simply remove those transactions.* :)"
   ]
  },
  {
   "cell_type": "code",
   "execution_count": 64,
   "id": "c8fc48ab",
   "metadata": {},
   "outputs": [
    {
     "ename": "NameError",
     "evalue": "name 'df_encoded' is not defined",
     "output_type": "error",
     "traceback": [
      "\u001b[1;31m---------------------------------------------------------------------------\u001b[0m",
      "\u001b[1;31mNameError\u001b[0m                                 Traceback (most recent call last)",
      "Cell \u001b[1;32mIn[64], line 1\u001b[0m\n\u001b[1;32m----> 1\u001b[0m df_enc \u001b[38;5;241m=\u001b[39m df_encoded[(df_encoded[df_encoded \u001b[38;5;241m==\u001b[39m \u001b[38;5;241m1\u001b[39m])\u001b[38;5;241m.\u001b[39msum(axis\u001b[38;5;241m=\u001b[39m\u001b[38;5;241m1\u001b[39m) \u001b[38;5;241m>\u001b[39m \u001b[38;5;241m1\u001b[39m]\n\u001b[0;32m      2\u001b[0m df_enc\n",
      "\u001b[1;31mNameError\u001b[0m: name 'df_encoded' is not defined"
     ]
    }
   ],
   "source": [
    "df_enc = df_encoded[(df_encoded[df_encoded == 1]).sum(axis=1) > 1]\n",
    "df_enc\n"
   ]
  },
  {
   "cell_type": "markdown",
   "id": "78455fbc",
   "metadata": {},
   "source": [
    "Originally, we had 16,649 rows of transactions. After filtering, we now have 15,371 rows."
   ]
  },
  {
   "cell_type": "markdown",
   "id": "9dc80f4a",
   "metadata": {},
   "source": [
    "## Apriori Algorithm"
   ]
  },
  {
   "cell_type": "markdown",
   "id": "42a29033",
   "metadata": {},
   "source": [
    "We can use the `mlxtend` library to apply the Apriori Algorithm. We will first install the package and then load it in.  \n",
    "  \n",
    "If you are interested in seeing how this works, you can also view their Github [here](https://github.com/rasbt/mlxtend). The more specific area on Apriori is [here](https://github.com/rasbt/mlxtend/tree/master/mlxtend/frequent_patterns)."
   ]
  },
  {
   "cell_type": "markdown",
   "id": "7c1f4227",
   "metadata": {},
   "source": [
    "### Load our library"
   ]
  },
  {
   "cell_type": "code",
   "execution_count": 66,
   "id": "26e8e626",
   "metadata": {},
   "outputs": [
    {
     "name": "stdout",
     "output_type": "stream",
     "text": [
      "Collecting mlxtend\n",
      "  Downloading mlxtend-0.23.2-py3-none-any.whl.metadata (7.3 kB)\n",
      "Requirement already satisfied: scipy>=1.2.1 in c:\\users\\jandr\\anaconda3\\lib\\site-packages (from mlxtend) (1.13.1)\n",
      "Requirement already satisfied: numpy>=1.16.2 in c:\\users\\jandr\\anaconda3\\lib\\site-packages (from mlxtend) (1.26.4)\n",
      "Requirement already satisfied: pandas>=0.24.2 in c:\\users\\jandr\\anaconda3\\lib\\site-packages (from mlxtend) (2.2.2)\n",
      "Requirement already satisfied: scikit-learn>=1.3.1 in c:\\users\\jandr\\anaconda3\\lib\\site-packages (from mlxtend) (1.5.1)\n",
      "Requirement already satisfied: matplotlib>=3.0.0 in c:\\users\\jandr\\anaconda3\\lib\\site-packages (from mlxtend) (3.9.2)\n",
      "Requirement already satisfied: joblib>=0.13.2 in c:\\users\\jandr\\anaconda3\\lib\\site-packages (from mlxtend) (1.4.2)\n",
      "Requirement already satisfied: contourpy>=1.0.1 in c:\\users\\jandr\\anaconda3\\lib\\site-packages (from matplotlib>=3.0.0->mlxtend) (1.2.0)\n",
      "Requirement already satisfied: cycler>=0.10 in c:\\users\\jandr\\anaconda3\\lib\\site-packages (from matplotlib>=3.0.0->mlxtend) (0.11.0)\n",
      "Requirement already satisfied: fonttools>=4.22.0 in c:\\users\\jandr\\anaconda3\\lib\\site-packages (from matplotlib>=3.0.0->mlxtend) (4.51.0)\n",
      "Requirement already satisfied: kiwisolver>=1.3.1 in c:\\users\\jandr\\anaconda3\\lib\\site-packages (from matplotlib>=3.0.0->mlxtend) (1.4.4)\n",
      "Requirement already satisfied: packaging>=20.0 in c:\\users\\jandr\\anaconda3\\lib\\site-packages (from matplotlib>=3.0.0->mlxtend) (24.1)\n",
      "Requirement already satisfied: pillow>=8 in c:\\users\\jandr\\anaconda3\\lib\\site-packages (from matplotlib>=3.0.0->mlxtend) (10.4.0)\n",
      "Requirement already satisfied: pyparsing>=2.3.1 in c:\\users\\jandr\\anaconda3\\lib\\site-packages (from matplotlib>=3.0.0->mlxtend) (3.1.2)\n",
      "Requirement already satisfied: python-dateutil>=2.7 in c:\\users\\jandr\\anaconda3\\lib\\site-packages (from matplotlib>=3.0.0->mlxtend) (2.9.0.post0)\n",
      "Requirement already satisfied: pytz>=2020.1 in c:\\users\\jandr\\anaconda3\\lib\\site-packages (from pandas>=0.24.2->mlxtend) (2024.1)\n",
      "Requirement already satisfied: tzdata>=2022.7 in c:\\users\\jandr\\anaconda3\\lib\\site-packages (from pandas>=0.24.2->mlxtend) (2023.3)\n",
      "Requirement already satisfied: threadpoolctl>=3.1.0 in c:\\users\\jandr\\anaconda3\\lib\\site-packages (from scikit-learn>=1.3.1->mlxtend) (3.5.0)\n",
      "Requirement already satisfied: six>=1.5 in c:\\users\\jandr\\anaconda3\\lib\\site-packages (from python-dateutil>=2.7->matplotlib>=3.0.0->mlxtend) (1.16.0)\n",
      "Downloading mlxtend-0.23.2-py3-none-any.whl (1.4 MB)\n",
      "   ---------------------------------------- 0.0/1.4 MB ? eta -:--:--\n",
      "   ---------------------------------------- 1.4/1.4 MB 23.2 MB/s eta 0:00:00\n",
      "Installing collected packages: mlxtend\n",
      "Successfully installed mlxtend-0.23.2\n"
     ]
    }
   ],
   "source": [
    "!pip install mlxtend"
   ]
  },
  {
   "cell_type": "code",
   "execution_count": 67,
   "id": "9c0aa48e",
   "metadata": {},
   "outputs": [],
   "source": [
    "from mlxtend.frequent_patterns import apriori, association_rules"
   ]
  },
  {
   "cell_type": "markdown",
   "id": "c607cd9b",
   "metadata": {},
   "source": [
    "### Find frequent itemsets"
   ]
  },
  {
   "cell_type": "markdown",
   "id": "c83f3b76",
   "metadata": {},
   "source": [
    "<font color=\"red\">Before continuing, take a look at the documentation for our `apriori` method.</font>"
   ]
  },
  {
   "cell_type": "code",
   "execution_count": 74,
   "id": "f7f153d8",
   "metadata": {},
   "outputs": [
    {
     "data": {
      "text/plain": [
       "\u001b[1;31mSignature:\u001b[0m\n",
       "\u001b[0mapriori\u001b[0m\u001b[1;33m(\u001b[0m\u001b[1;33m\n",
       "\u001b[0m    \u001b[0mdf\u001b[0m\u001b[1;33m,\u001b[0m\u001b[1;33m\n",
       "\u001b[0m    \u001b[0mmin_support\u001b[0m\u001b[1;33m=\u001b[0m\u001b[1;36m0.5\u001b[0m\u001b[1;33m,\u001b[0m\u001b[1;33m\n",
       "\u001b[0m    \u001b[0muse_colnames\u001b[0m\u001b[1;33m=\u001b[0m\u001b[1;32mFalse\u001b[0m\u001b[1;33m,\u001b[0m\u001b[1;33m\n",
       "\u001b[0m    \u001b[0mmax_len\u001b[0m\u001b[1;33m=\u001b[0m\u001b[1;32mNone\u001b[0m\u001b[1;33m,\u001b[0m\u001b[1;33m\n",
       "\u001b[0m    \u001b[0mverbose\u001b[0m\u001b[1;33m=\u001b[0m\u001b[1;36m0\u001b[0m\u001b[1;33m,\u001b[0m\u001b[1;33m\n",
       "\u001b[0m    \u001b[0mlow_memory\u001b[0m\u001b[1;33m=\u001b[0m\u001b[1;32mFalse\u001b[0m\u001b[1;33m,\u001b[0m\u001b[1;33m\n",
       "\u001b[0m\u001b[1;33m)\u001b[0m\u001b[1;33m\u001b[0m\u001b[1;33m\u001b[0m\u001b[0m\n",
       "\u001b[1;31mDocstring:\u001b[0m\n",
       "Get frequent itemsets from a one-hot DataFrame\n",
       "\n",
       "Parameters\n",
       "-----------\n",
       "df : pandas DataFrame\n",
       "  pandas DataFrame the encoded format. Also supports\n",
       "  DataFrames with sparse data; for more info, please\n",
       "  see (https://pandas.pydata.org/pandas-docs/stable/\n",
       "       user_guide/sparse.html#sparse-data-structures)\n",
       "\n",
       "  Please note that the old pandas SparseDataFrame format\n",
       "  is no longer supported in mlxtend >= 0.17.2.\n",
       "\n",
       "  The allowed values are either 0/1 or True/False.\n",
       "  For example,\n",
       "\n",
       "```\n",
       "         Apple  Bananas   Beer  Chicken   Milk   Rice\n",
       "    0     True    False   True     True  False   True\n",
       "    1     True    False   True    False  False   True\n",
       "    2     True    False   True    False  False  False\n",
       "    3     True     True  False    False  False  False\n",
       "    4    False    False   True     True   True   True\n",
       "    5    False    False   True    False   True   True\n",
       "    6    False    False   True    False   True  False\n",
       "    7     True     True  False    False  False  False\n",
       "```\n",
       "\n",
       "min_support : float (default: 0.5)\n",
       "  A float between 0 and 1 for minumum support of the itemsets returned.\n",
       "  The support is computed as the fraction\n",
       "  `transactions_where_item(s)_occur / total_transactions`.\n",
       "\n",
       "use_colnames : bool (default: False)\n",
       "  If `True`, uses the DataFrames' column names in the returned DataFrame\n",
       "  instead of column indices.\n",
       "\n",
       "max_len : int (default: None)\n",
       "  Maximum length of the itemsets generated. If `None` (default) all\n",
       "  possible itemsets lengths (under the apriori condition) are evaluated.\n",
       "\n",
       "verbose : int (default: 0)\n",
       "  Shows the number of iterations if >= 1 and `low_memory` is `True`. If\n",
       "  >=1 and `low_memory` is `False`, shows the number of combinations.\n",
       "\n",
       "low_memory : bool (default: False)\n",
       "  If `True`, uses an iterator to search for combinations above\n",
       "  `min_support`.\n",
       "  Note that while `low_memory=True` should only be used for large dataset\n",
       "  if memory resources are limited, because this implementation is approx.\n",
       "  3-6x slower than the default.\n",
       "\n",
       "\n",
       "Returns\n",
       "-----------\n",
       "pandas DataFrame with columns ['support', 'itemsets'] of all itemsets\n",
       "  that are >= `min_support` and < than `max_len`\n",
       "  (if `max_len` is not None).\n",
       "  Each itemset in the 'itemsets' column is of type `frozenset`,\n",
       "  which is a Python built-in type that behaves similarly to\n",
       "  sets except that it is immutable\n",
       "  (For more info, see\n",
       "  https://docs.python.org/3.6/library/stdtypes.html#frozenset).\n",
       "\n",
       "Examples\n",
       "-----------\n",
       "For usage examples, please see\n",
       "https://rasbt.github.io/mlxtend/user_guide/frequent_patterns/apriori/\n",
       "\u001b[1;31mFile:\u001b[0m      c:\\users\\jandr\\anaconda3\\lib\\site-packages\\mlxtend\\frequent_patterns\\apriori.py\n",
       "\u001b[1;31mType:\u001b[0m      function"
      ]
     },
     "metadata": {},
     "output_type": "display_data"
    }
   ],
   "source": [
    "apriori?"
   ]
  },
  {
   "cell_type": "markdown",
   "id": "1a080c2f",
   "metadata": {},
   "source": [
    "<font color=\"red\">Create a variable called `freq_itemsets` to save our results from the `apriori` method call. In this call, set `df_enc` as our DataFrame, `min_support` to be `0.03`, and `use_colnames` to `True`.</font>"
   ]
  },
  {
   "cell_type": "code",
   "execution_count": 77,
   "id": "43ba4e24",
   "metadata": {
    "scrolled": true
   },
   "outputs": [
    {
     "name": "stderr",
     "output_type": "stream",
     "text": [
      "C:\\Users\\jandr\\anaconda3\\Lib\\site-packages\\executing\\executing.py:713: DeprecationWarning: ast.Str is deprecated and will be removed in Python 3.14; use ast.Constant instead\n",
      "  right=ast.Str(s=sentinel),\n",
      "C:\\Users\\jandr\\anaconda3\\Lib\\ast.py:587: DeprecationWarning: Attribute s is deprecated and will be removed in Python 3.14; use value instead\n",
      "  return Constant(*args, **kwargs)\n",
      "C:\\Users\\jandr\\anaconda3\\Lib\\site-packages\\executing\\executing.py:713: DeprecationWarning: ast.Str is deprecated and will be removed in Python 3.14; use ast.Constant instead\n",
      "  right=ast.Str(s=sentinel),\n",
      "C:\\Users\\jandr\\anaconda3\\Lib\\ast.py:587: DeprecationWarning: Attribute s is deprecated and will be removed in Python 3.14; use value instead\n",
      "  return Constant(*args, **kwargs)\n"
     ]
    },
    {
     "ename": "NameError",
     "evalue": "name 'df_encoded' is not defined",
     "output_type": "error",
     "traceback": [
      "\u001b[1;31m---------------------------------------------------------------------------\u001b[0m",
      "\u001b[1;31mNameError\u001b[0m                                 Traceback (most recent call last)",
      "Cell \u001b[1;32mIn[77], line 3\u001b[0m\n\u001b[0;32m      1\u001b[0m \u001b[38;5;28;01mfrom\u001b[39;00m \u001b[38;5;21;01mmlxtend\u001b[39;00m\u001b[38;5;21;01m.\u001b[39;00m\u001b[38;5;21;01mfrequent_patterns\u001b[39;00m \u001b[38;5;28;01mimport\u001b[39;00m apriori\n\u001b[1;32m----> 3\u001b[0m freq_itemsets \u001b[38;5;241m=\u001b[39m apriori(df_encoded, min_support\u001b[38;5;241m=\u001b[39m\u001b[38;5;241m0.03\u001b[39m, use_colnames\u001b[38;5;241m=\u001b[39m\u001b[38;5;28;01mTrue\u001b[39;00m)\n\u001b[0;32m      5\u001b[0m \u001b[38;5;28;01mimport\u001b[39;00m \u001b[38;5;21;01mace_tools\u001b[39;00m \u001b[38;5;28;01mas\u001b[39;00m \u001b[38;5;21;01mtools\u001b[39;00m; tools\u001b[38;5;241m.\u001b[39mdisplay_dataframe_to_user(name\u001b[38;5;241m=\u001b[39m\u001b[38;5;124m\"\u001b[39m\u001b[38;5;124mFrequent Itemsets\u001b[39m\u001b[38;5;124m\"\u001b[39m, dataframe\u001b[38;5;241m=\u001b[39mfreq_itemsets)\n",
      "\u001b[1;31mNameError\u001b[0m: name 'df_encoded' is not defined"
     ]
    }
   ],
   "source": [
    "from mlxtend.frequent_patterns import apriori\n",
    "\n",
    "freq_itemsets = apriori(df_encoded, min_support=0.03, use_colnames=True)\n",
    "\n",
    "import ace_tools as tools; tools.display_dataframe_to_user(name=\"Frequent Itemsets\", dataframe=freq_itemsets)\n"
   ]
  },
  {
   "cell_type": "code",
   "execution_count": null,
   "id": "9596aa63",
   "metadata": {},
   "outputs": [],
   "source": [
    "freq_itemsets.sort_values('support', ascending=False)"
   ]
  },
  {
   "cell_type": "markdown",
   "id": "c5356589",
   "metadata": {},
   "source": [
    "### Find the association rules"
   ]
  },
  {
   "cell_type": "markdown",
   "id": "db4780c3",
   "metadata": {},
   "source": [
    "<font color=\"red\">Again, take a look at the documentation for our `association_rules` method before continuing.</font>"
   ]
  },
  {
   "cell_type": "code",
   "execution_count": 79,
   "id": "65a288e9",
   "metadata": {},
   "outputs": [
    {
     "data": {
      "text/plain": [
       "\u001b[1;31mSignature:\u001b[0m\n",
       "\u001b[0massociation_rules\u001b[0m\u001b[1;33m(\u001b[0m\u001b[1;33m\n",
       "\u001b[0m    \u001b[0mdf\u001b[0m\u001b[1;33m:\u001b[0m \u001b[0mpandas\u001b[0m\u001b[1;33m.\u001b[0m\u001b[0mcore\u001b[0m\u001b[1;33m.\u001b[0m\u001b[0mframe\u001b[0m\u001b[1;33m.\u001b[0m\u001b[0mDataFrame\u001b[0m\u001b[1;33m,\u001b[0m\u001b[1;33m\n",
       "\u001b[0m    \u001b[0mnum_itemsets\u001b[0m\u001b[1;33m:\u001b[0m \u001b[0mint\u001b[0m\u001b[1;33m,\u001b[0m\u001b[1;33m\n",
       "\u001b[0m    \u001b[0mdf_orig\u001b[0m\u001b[1;33m:\u001b[0m \u001b[0mOptional\u001b[0m\u001b[1;33m[\u001b[0m\u001b[0mpandas\u001b[0m\u001b[1;33m.\u001b[0m\u001b[0mcore\u001b[0m\u001b[1;33m.\u001b[0m\u001b[0mframe\u001b[0m\u001b[1;33m.\u001b[0m\u001b[0mDataFrame\u001b[0m\u001b[1;33m]\u001b[0m \u001b[1;33m=\u001b[0m \u001b[1;32mNone\u001b[0m\u001b[1;33m,\u001b[0m\u001b[1;33m\n",
       "\u001b[0m    \u001b[0mnull_values\u001b[0m\u001b[1;33m=\u001b[0m\u001b[1;32mFalse\u001b[0m\u001b[1;33m,\u001b[0m\u001b[1;33m\n",
       "\u001b[0m    \u001b[0mmetric\u001b[0m\u001b[1;33m=\u001b[0m\u001b[1;34m'confidence'\u001b[0m\u001b[1;33m,\u001b[0m\u001b[1;33m\n",
       "\u001b[0m    \u001b[0mmin_threshold\u001b[0m\u001b[1;33m=\u001b[0m\u001b[1;36m0.8\u001b[0m\u001b[1;33m,\u001b[0m\u001b[1;33m\n",
       "\u001b[0m    \u001b[0msupport_only\u001b[0m\u001b[1;33m=\u001b[0m\u001b[1;32mFalse\u001b[0m\u001b[1;33m,\u001b[0m\u001b[1;33m\n",
       "\u001b[0m    \u001b[0mreturn_metrics\u001b[0m\u001b[1;33m:\u001b[0m \u001b[0mlist\u001b[0m \u001b[1;33m=\u001b[0m \u001b[1;33m[\u001b[0m\u001b[1;34m'antecedent support'\u001b[0m\u001b[1;33m,\u001b[0m \u001b[1;34m'consequent support'\u001b[0m\u001b[1;33m,\u001b[0m \u001b[1;34m'support'\u001b[0m\u001b[1;33m,\u001b[0m \u001b[1;34m'confidence'\u001b[0m\u001b[1;33m,\u001b[0m \u001b[1;34m'lift'\u001b[0m\u001b[1;33m,\u001b[0m \u001b[1;34m'representativity'\u001b[0m\u001b[1;33m,\u001b[0m \u001b[1;34m'leverage'\u001b[0m\u001b[1;33m,\u001b[0m \u001b[1;34m'conviction'\u001b[0m\u001b[1;33m,\u001b[0m \u001b[1;34m'zhangs_metric'\u001b[0m\u001b[1;33m,\u001b[0m \u001b[1;34m'jaccard'\u001b[0m\u001b[1;33m,\u001b[0m \u001b[1;34m'certainty'\u001b[0m\u001b[1;33m,\u001b[0m \u001b[1;34m'kulczynski'\u001b[0m\u001b[1;33m]\u001b[0m\u001b[1;33m,\u001b[0m\u001b[1;33m\n",
       "\u001b[0m\u001b[1;33m)\u001b[0m \u001b[1;33m->\u001b[0m \u001b[0mpandas\u001b[0m\u001b[1;33m.\u001b[0m\u001b[0mcore\u001b[0m\u001b[1;33m.\u001b[0m\u001b[0mframe\u001b[0m\u001b[1;33m.\u001b[0m\u001b[0mDataFrame\u001b[0m\u001b[1;33m\u001b[0m\u001b[1;33m\u001b[0m\u001b[0m\n",
       "\u001b[1;31mDocstring:\u001b[0m\n",
       "Generates a DataFrame of association rules including the\n",
       "metrics 'score', 'confidence', and 'lift'\n",
       "\n",
       "Parameters\n",
       "-----------\n",
       "df : pandas DataFrame\n",
       "  pandas DataFrame of frequent itemsets\n",
       "  with columns ['support', 'itemsets']\n",
       "\n",
       "df_orig : pandas DataFrame (default: None)\n",
       "  DataFrame with original input data. Only provided when null_values exist\n",
       "\n",
       "num_itemsets : int\n",
       "  Number of transactions in original input data\n",
       "\n",
       "null_values : bool (default: False)\n",
       "  In case there are null values as NaNs in the original input data\n",
       "\n",
       "metric : string (default: 'confidence')\n",
       "  Metric to evaluate if a rule is of interest.\n",
       "  **Automatically set to 'support' if `support_only=True`.**\n",
       "  Otherwise, supported metrics are 'support', 'confidence', 'lift',\n",
       "  'leverage', 'conviction' and 'zhangs_metric'\n",
       "  These metrics are computed as follows:\n",
       "\n",
       "  - support(A->C) = support(A+C) [aka 'support'], range: [0, 1]\n",
       "\n",
       "  - confidence(A->C) = support(A+C) / support(A), range: [0, 1]\n",
       "\n",
       "  - lift(A->C) = confidence(A->C) / support(C), range: [0, inf]\n",
       "\n",
       "  - leverage(A->C) = support(A->C) - support(A)*support(C),\n",
       "    range: [-1, 1]\n",
       "\n",
       "  - conviction = [1 - support(C)] / [1 - confidence(A->C)],\n",
       "    range: [0, inf]\n",
       "\n",
       "  - zhangs_metric(A->C) =\n",
       "    leverage(A->C) / max(support(A->C)*(1-support(A)), support(A)*(support(C)-support(A->C)))\n",
       "    range: [-1,1]\n",
       "\n",
       "\n",
       "min_threshold : float (default: 0.8)\n",
       "  Minimal threshold for the evaluation metric,\n",
       "  via the `metric` parameter,\n",
       "  to decide whether a candidate rule is of interest.\n",
       "\n",
       "support_only : bool (default: False)\n",
       "  Only computes the rule support and fills the other\n",
       "  metric columns with NaNs. This is useful if:\n",
       "\n",
       "  a) the input DataFrame is incomplete, e.g., does\n",
       "  not contain support values for all rule antecedents\n",
       "  and consequents\n",
       "\n",
       "  b) you simply want to speed up the computation because\n",
       "  you don't need the other metrics.\n",
       "\n",
       "Returns\n",
       "----------\n",
       "pandas DataFrame with columns \"antecedents\" and \"consequents\"\n",
       "  that store itemsets, plus the scoring metric columns:\n",
       "  \"antecedent support\", \"consequent support\",\n",
       "  \"support\", \"confidence\", \"lift\",\n",
       "  \"leverage\", \"conviction\"\n",
       "  of all rules for which\n",
       "  metric(rule) >= min_threshold.\n",
       "  Each entry in the \"antecedents\" and \"consequents\" columns are\n",
       "  of type `frozenset`, which is a Python built-in type that\n",
       "  behaves similarly to sets except that it is immutable\n",
       "  (For more info, see\n",
       "  https://docs.python.org/3.6/library/stdtypes.html#frozenset).\n",
       "\n",
       "Examples\n",
       "-----------\n",
       "For usage examples, please see\n",
       "https://rasbt.github.io/mlxtend/user_guide/frequent_patterns/association_rules/\n",
       "\u001b[1;31mFile:\u001b[0m      c:\\users\\jandr\\anaconda3\\lib\\site-packages\\mlxtend\\frequent_patterns\\association_rules.py\n",
       "\u001b[1;31mType:\u001b[0m      function"
      ]
     },
     "metadata": {},
     "output_type": "display_data"
    }
   ],
   "source": [
    "association_rules?"
   ]
  },
  {
   "cell_type": "code",
   "execution_count": 81,
   "id": "442a62c6",
   "metadata": {},
   "outputs": [
    {
     "name": "stderr",
     "output_type": "stream",
     "text": [
      "C:\\Users\\jandr\\anaconda3\\Lib\\site-packages\\executing\\executing.py:713: DeprecationWarning: ast.Str is deprecated and will be removed in Python 3.14; use ast.Constant instead\n",
      "  right=ast.Str(s=sentinel),\n",
      "C:\\Users\\jandr\\anaconda3\\Lib\\ast.py:587: DeprecationWarning: Attribute s is deprecated and will be removed in Python 3.14; use value instead\n",
      "  return Constant(*args, **kwargs)\n",
      "C:\\Users\\jandr\\anaconda3\\Lib\\site-packages\\executing\\executing.py:713: DeprecationWarning: ast.Str is deprecated and will be removed in Python 3.14; use ast.Constant instead\n",
      "  right=ast.Str(s=sentinel),\n",
      "C:\\Users\\jandr\\anaconda3\\Lib\\ast.py:587: DeprecationWarning: Attribute s is deprecated and will be removed in Python 3.14; use value instead\n",
      "  return Constant(*args, **kwargs)\n"
     ]
    },
    {
     "ename": "NameError",
     "evalue": "name 'freq_itemsets' is not defined",
     "output_type": "error",
     "traceback": [
      "\u001b[1;31m---------------------------------------------------------------------------\u001b[0m",
      "\u001b[1;31mNameError\u001b[0m                                 Traceback (most recent call last)",
      "Cell \u001b[1;32mIn[81], line 1\u001b[0m\n\u001b[1;32m----> 1\u001b[0m association_rules(freq_itemsets, metric\u001b[38;5;241m=\u001b[39m\u001b[38;5;124m\"\u001b[39m\u001b[38;5;124mconfidence\u001b[39m\u001b[38;5;124m\"\u001b[39m, min_threshold\u001b[38;5;241m=\u001b[39m\u001b[38;5;241m0.60\u001b[39m, num_itemsets \u001b[38;5;241m=\u001b[39m \u001b[38;5;28mlen\u001b[39m(df_enc))\u001b[38;5;241m.\u001b[39msort_values(\u001b[38;5;124m\"\u001b[39m\u001b[38;5;124mconfidence\u001b[39m\u001b[38;5;124m\"\u001b[39m, ascending\u001b[38;5;241m=\u001b[39m\u001b[38;5;28;01mFalse\u001b[39;00m)\n",
      "\u001b[1;31mNameError\u001b[0m: name 'freq_itemsets' is not defined"
     ]
    }
   ],
   "source": [
    "association_rules(freq_itemsets, metric=\"confidence\", min_threshold=0.60, num_itemsets = len(df_enc)).sort_values(\"confidence\", ascending=False)"
   ]
  },
  {
   "cell_type": "markdown",
   "id": "649ed4a5",
   "metadata": {},
   "source": [
    "With a minimum confidence threshold of 60%, this is what we have (above).  \n",
    "If someone buys a *green regency teacup and saucer* they are likely to also buy a *roses regency teacup and saucer*."
   ]
  },
  {
   "cell_type": "markdown",
   "id": "889b1289",
   "metadata": {},
   "source": [
    "<font color=\"red\">What if we look at a confidence threshold of 20%? What are some other rules?</font>"
   ]
  },
  {
   "cell_type": "code",
   "execution_count": 127,
   "id": "ecd06f16",
   "metadata": {},
   "outputs": [],
   "source": [
    "from mlxtend.frequent_patterns import association_rules\n",
    "rules = association_rules(freq_itemsets, metric=\"confidence\", min_threshold=0.20)\n",
    "\n",
    "rules_sorted = rules.sort_values(\"confidence\", ascending=False)\n",
    "import ace_tools as tools; tools.display_dataframe_to_user(name=\"Association Rules with Confidence >= 20%\", dataframe=rules_sorted)\n"
   ]
  },
  {
   "cell_type": "markdown",
   "id": "78cdf2ff",
   "metadata": {},
   "source": [
    "## Conclusions"
   ]
  },
  {
   "cell_type": "markdown",
   "id": "4eaf8e82",
   "metadata": {},
   "source": [
    "<font color=\"red\">Discuss, based on the association rules found above, what are some strategies this online store could employ to increase sales?</font>"
   ]
  },
  {
   "cell_type": "markdown",
   "id": "0a910eb5",
   "metadata": {},
   "source": [
    "To increase sales, the online store can bundle items that are often bought together, like matching teacups, and offer discounts to encourage customers to buy more. They can show product suggestions like \"People who bought this also bought that\" on the website and in emails. Special promotions, like \"Buy one, get 20% off another,\" can attract more purchases. Grouping related items into easy-to-find collections and sending personalized follow-up emails can also help. Seasonal sales, like holiday bundles, and loyalty rewards for buying sets can make shopping more exciting. These strategies make it easier and more fun for customers to shop while increasing the store’s profits."
   ]
  },
  {
   "cell_type": "markdown",
   "id": "8fa859d1",
   "metadata": {},
   "source": []
  }
 ],
 "metadata": {
  "kernelspec": {
   "display_name": "Python 3 (ipykernel)",
   "language": "python",
   "name": "python3"
  },
  "language_info": {
   "codemirror_mode": {
    "name": "ipython",
    "version": 3
   },
   "file_extension": ".py",
   "mimetype": "text/x-python",
   "name": "python",
   "nbconvert_exporter": "python",
   "pygments_lexer": "ipython3",
   "version": "3.12.7"
  }
 },
 "nbformat": 4,
 "nbformat_minor": 5
}
