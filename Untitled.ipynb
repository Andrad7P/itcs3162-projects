{
 "cells": [
  {
   "cell_type": "code",
   "execution_count": null,
   "id": "8866b1ff-b779-47a5-bed6-bc7b0fd4ba60",
   "metadata": {},
   "outputs": [],
   "source": [
    "import numpy as np\n",
    "import pandas as pd\n",
    "import matplotlib.pypot as plt\n",
    "import seaborn as sns\n",
    "import statsmodel.formula.api as sn\n",
    "from statsmodels.stats.outlieres_influence import variance_inflation_factor\n"
   ]
  },
  {
   "cell_type": "markdown",
   "id": "8d7677b7-e23d-4157-93c6-fd2695b318f2",
   "metadata": {},
   "source": [
    "## Fake data"
   ]
  },
  {
   "cell_type": "code",
   "execution_count": 22,
   "id": "659772e5-6845-4e2c-a63f-f9cbec1a72bd",
   "metadata": {},
   "outputs": [
    {
     "ename": "SyntaxError",
     "evalue": "invalid syntax (3647097405.py, line 6)",
     "output_type": "error",
     "traceback": [
      "\u001b[1;36m  Cell \u001b[1;32mIn[22], line 6\u001b[1;36m\u001b[0m\n\u001b[1;33m    from statsmodels.stats.outliers_influence.variance_inflation_factor\u001b[0m\n\u001b[1;37m                                                                       ^\u001b[0m\n\u001b[1;31mSyntaxError\u001b[0m\u001b[1;31m:\u001b[0m invalid syntax\n"
     ]
    }
   ],
   "source": [
    "import numpy as np\n",
    "import pandas as pd\n",
    "import matplotlib.pyplot as plt\n",
    "import seaborn as sns\n",
    "import statsmodels.api as sm\n",
    "from statsmodels.stats.outliers_influence.variance_inflation_factor\n",
    "n=100\n",
    "X1=np.random.normal(5,2,n)\n",
    "X2=np.random.normal(10,5,n)\n",
    "X3=np.random.normal(20,10,n)\n",
    "\n",
    "y=3+2*X1+0.5*X2-1.5*X3 + np.random.normal(0,2,n) #response \n",
    "\n",
    "df=pd.DataFrame({\"X1\":X1,\"X2\":X2, \"X3\":X3, \"Y\":Y})\n",
    "df"
   ]
  },
  {
   "cell_type": "code",
   "execution_count": 14,
   "id": "3d140be9-bf1c-4ebf-b28d-84dc00cf2b75",
   "metadata": {},
   "outputs": [
    {
     "ename": "NameError",
     "evalue": "name 'df' is not defined",
     "output_type": "error",
     "traceback": [
      "\u001b[1;31m---------------------------------------------------------------------------\u001b[0m",
      "\u001b[1;31mNameError\u001b[0m                                 Traceback (most recent call last)",
      "Cell \u001b[1;32mIn[14], line 2\u001b[0m\n\u001b[0;32m      1\u001b[0m \u001b[38;5;66;03m# Visualization\u001b[39;00m\n\u001b[1;32m----> 2\u001b[0m sns\u001b[38;5;241m.\u001b[39mpairplot(df)\n\u001b[0;32m      3\u001b[0m plt\u001b[38;5;241m.\u001b[39mtitlte(\u001b[38;5;124m\"\u001b[39m\u001b[38;5;124mairplot of variables\u001b[39m\u001b[38;5;124m\"\u001b[39m, y \u001b[38;5;241m=\u001b[39m \u001b[38;5;241m1.02\u001b[39m)\n\u001b[0;32m      4\u001b[0m plt\u001b[38;5;241m.\u001b[39mshow()\n",
      "\u001b[1;31mNameError\u001b[0m: name 'df' is not defined"
     ]
    }
   ],
   "source": [
    "# Visualization\n",
    "sns.pairplot(df)\n",
    "plt.titlte(\"airplot of variables\", y = 1.02)\n",
    "plt.show()"
   ]
  },
  {
   "cell_type": "code",
   "execution_count": 24,
   "id": "c0274971-5f50-4020-b92e-267aecc1e10b",
   "metadata": {},
   "outputs": [
    {
     "ename": "SyntaxError",
     "evalue": "incomplete input (895210357.py, line 2)",
     "output_type": "error",
     "traceback": [
      "\u001b[1;36m  Cell \u001b[1;32mIn[24], line 2\u001b[1;36m\u001b[0m\n\u001b[1;33m    sns.heatmap(df.corr(), annot=True, cmap=\u001b[0m\n\u001b[1;37m                                            ^\u001b[0m\n\u001b[1;31mSyntaxError\u001b[0m\u001b[1;31m:\u001b[0m incomplete input\n"
     ]
    }
   ],
   "source": [
    "plt.figure(figsize=(8,6))\n",
    "sns.heatmap(df.corr(), annot=True, cmap=\""
   ]
  },
  {
   "cell_type": "code",
   "execution_count": null,
   "id": "128b7cb5-7788-4999-b8a1-8f39421acefd",
   "metadata": {},
   "outputs": [],
   "source": [
    "# Creating the multiple linear regresssion model\n",
    "model_formula = smf.ols(formula=\"Y ~ X! + X2 + X3\", data=df)"
   ]
  },
  {
   "cell_type": "code",
   "execution_count": null,
   "id": "69b159ac-16ff-4183-a3e0-08a2718cdcbd",
   "metadata": {},
   "outputs": [],
   "source": [
    "vif_data= pd.DataFrame()\n",
    "x=df.iloc{:, 0:3}\n",
    "vif_data[\"Feature\"] = ZX.columns\n",
    "vif_data[\"VIF]=[Variance_inflation_factor(X.values, i) for i in range(X.shape[1])]\n",
    "vif_data"
   ]
  },
  {
   "cell_type": "code",
   "execution_count": null,
   "id": "06dacaa5-bcdb-4103-a937-5a8a467c6fc6",
   "metadata": {},
   "outputs": [],
   "source": []
  },
  {
   "cell_type": "code",
   "execution_count": null,
   "id": "ed4d4a8a-5852-4682-8dac-de9d4ffc28ef",
   "metadata": {},
   "outputs": [],
   "source": []
  },
  {
   "cell_type": "code",
   "execution_count": null,
   "id": "15492390-02ba-4858-96f1-e834674d5a88",
   "metadata": {},
   "outputs": [],
   "source": []
  }
 ],
 "metadata": {
  "kernelspec": {
   "display_name": "Python 3 (ipykernel)",
   "language": "python",
   "name": "python3"
  },
  "language_info": {
   "codemirror_mode": {
    "name": "ipython",
    "version": 3
   },
   "file_extension": ".py",
   "mimetype": "text/x-python",
   "name": "python",
   "nbconvert_exporter": "python",
   "pygments_lexer": "ipython3",
   "version": "3.12.4"
  }
 },
 "nbformat": 4,
 "nbformat_minor": 5
}
